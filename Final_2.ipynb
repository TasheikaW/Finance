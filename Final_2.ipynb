{
  "nbformat": 4,
  "nbformat_minor": 0,
  "metadata": {
    "colab": {
      "provenance": [],
      "machine_shape": "hm",
      "gpuType": "A100"
    },
    "kernelspec": {
      "name": "ir",
      "display_name": "R"
    },
    "language_info": {
      "name": "R"
    },
    "accelerator": "GPU"
  },
  "cells": [
    {
      "cell_type": "code",
      "source": [
        "install.packages(\"caret\")\n",
        "install.packages(\"nnet\")\n",
        "install.packages(\"smotefamily\")\n",
        "install.packages(\"(DMwR\")"
      ],
      "metadata": {
        "colab": {
          "base_uri": "https://localhost:8080/"
        },
        "id": "WwrmLpMKvppZ",
        "outputId": "219e5836-45f5-4ef2-fca9-f34e1fbce9d5",
        "collapsed": true
      },
      "execution_count": 2,
      "outputs": [
        {
          "output_type": "stream",
          "name": "stderr",
          "text": [
            "Installing package into ‘/usr/local/lib/R/site-library’\n",
            "(as ‘lib’ is unspecified)\n",
            "\n",
            "Installing package into ‘/usr/local/lib/R/site-library’\n",
            "(as ‘lib’ is unspecified)\n",
            "\n",
            "Installing package into ‘/usr/local/lib/R/site-library’\n",
            "(as ‘lib’ is unspecified)\n",
            "\n",
            "Installing package into ‘/usr/local/lib/R/site-library’\n",
            "(as ‘lib’ is unspecified)\n",
            "\n",
            "Warning message:\n",
            "“package ‘(DMwR’ is not available for this version of R\n",
            "\n",
            "A version of this package for your version of R might be available elsewhere,\n",
            "see the ideas at\n",
            "https://cran.r-project.org/doc/manuals/r-patched/R-admin.html#Installing-packages”\n"
          ]
        }
      ]
    },
    {
      "cell_type": "code",
      "source": [
        "library(dplyr)\n",
        "library(nnet)\n",
        "library(caret)"
      ],
      "metadata": {
        "id": "FcHRYSPcwAXB",
        "colab": {
          "base_uri": "https://localhost:8080/"
        },
        "collapsed": true,
        "outputId": "8467b800-3d4e-407a-95b7-4ab8c11d0e10"
      },
      "execution_count": 3,
      "outputs": [
        {
          "output_type": "stream",
          "name": "stderr",
          "text": [
            "\n",
            "Attaching package: ‘dplyr’\n",
            "\n",
            "\n",
            "The following objects are masked from ‘package:stats’:\n",
            "\n",
            "    filter, lag\n",
            "\n",
            "\n",
            "The following objects are masked from ‘package:base’:\n",
            "\n",
            "    intersect, setdiff, setequal, union\n",
            "\n",
            "\n",
            "Loading required package: ggplot2\n",
            "\n",
            "Loading required package: lattice\n",
            "\n"
          ]
        }
      ]
    },
    {
      "cell_type": "code",
      "source": [
        "data <- read.csv('/content/loan_data_6061.csv')\n",
        "data <- data %>% select(-id)"
      ],
      "metadata": {
        "id": "_MtXKiGHws7C"
      },
      "execution_count": 4,
      "outputs": []
    },
    {
      "cell_type": "code",
      "source": [
        "num_cols <- sapply(data, is.numeric)\n",
        "data[num_cols] <- scale(data[num_cols])"
      ],
      "metadata": {
        "id": "wTk9P9V4wDH1"
      },
      "execution_count": 8,
      "outputs": []
    },
    {
      "cell_type": "code",
      "source": [
        "head(data, 5)"
      ],
      "metadata": {
        "colab": {
          "base_uri": "https://localhost:8080/",
          "height": 275
        },
        "id": "ZhC8bCIk2IAY",
        "outputId": "cde378da-9924-4737-8212-3438e7e3d2eb"
      },
      "execution_count": 9,
      "outputs": [
        {
          "output_type": "display_data",
          "data": {
            "text/html": [
              "<table class=\"dataframe\">\n",
              "<caption>A data.frame: 5 × 76</caption>\n",
              "<thead>\n",
              "\t<tr><th></th><th scope=col>loan_amnt</th><th scope=col>funded_amnt</th><th scope=col>funded_amnt_inv</th><th scope=col>term</th><th scope=col>int_rate</th><th scope=col>installment</th><th scope=col>grade</th><th scope=col>sub_grade</th><th scope=col>emp_length</th><th scope=col>home_ownership</th><th scope=col>⋯</th><th scope=col>num_tl_op_past_12m</th><th scope=col>pct_tl_nvr_dlq</th><th scope=col>percent_bc_gt_75</th><th scope=col>pub_rec_bankruptcies</th><th scope=col>tax_liens</th><th scope=col>tot_hi_cred_lim</th><th scope=col>total_bal_ex_mort</th><th scope=col>total_bc_limit</th><th scope=col>total_il_high_credit_limit</th><th scope=col>hardship_flag</th></tr>\n",
              "\t<tr><th></th><th scope=col>&lt;dbl&gt;</th><th scope=col>&lt;dbl&gt;</th><th scope=col>&lt;dbl&gt;</th><th scope=col>&lt;dbl&gt;</th><th scope=col>&lt;dbl&gt;</th><th scope=col>&lt;dbl&gt;</th><th scope=col>&lt;chr&gt;</th><th scope=col>&lt;chr&gt;</th><th scope=col>&lt;dbl&gt;</th><th scope=col>&lt;chr&gt;</th><th scope=col>⋯</th><th scope=col>&lt;dbl&gt;</th><th scope=col>&lt;dbl&gt;</th><th scope=col>&lt;dbl&gt;</th><th scope=col>&lt;dbl&gt;</th><th scope=col>&lt;dbl&gt;</th><th scope=col>&lt;dbl&gt;</th><th scope=col>&lt;dbl&gt;</th><th scope=col>&lt;dbl&gt;</th><th scope=col>&lt;dbl&gt;</th><th scope=col>&lt;chr&gt;</th></tr>\n",
              "</thead>\n",
              "<tbody>\n",
              "\t<tr><th scope=row>1</th><td>-1.2875540</td><td>-1.2875515</td><td>-1.2872937</td><td>-0.6670735</td><td> 0.2694998</td><td>-1.2373230</td><td>C</td><td>C4</td><td> 1.0871997</td><td>MORTGAGE</td><td>⋯</td><td> 0.47049792</td><td>-1.9086679</td><td>-1.1470153</td><td>-0.3397011</td><td>-0.1323778</td><td>-0.03817519</td><td>-0.91482930</td><td>-0.9305423</td><td>-0.7363810</td><td>N</td></tr>\n",
              "\t<tr><th scope=row>2</th><td> 0.9895040</td><td> 0.9895059</td><td> 0.9903224</td><td>-0.6670735</td><td>-0.1428577</td><td> 1.3684336</td><td>C</td><td>C1</td><td> 1.0871997</td><td>MORTGAGE</td><td>⋯</td><td>-0.06731137</td><td> 0.3656722</td><td>-0.9339362</td><td>-0.3397011</td><td>-0.1323778</td><td> 0.71266714</td><td>-0.29882794</td><td> 2.3812833</td><td>-0.4994580</td><td>N</td></tr>\n",
              "\t<tr><th scope=row>3</th><td> 2.1010536</td><td> 2.1010553</td><td> 2.1021445</td><td> 1.4990834</td><td> 0.4468136</td><td> 1.4043854</td><td>C</td><td>C5</td><td> 1.0871997</td><td>MORTGAGE</td><td>⋯</td><td>-0.60512066</td><td> 0.6541251</td><td>-1.1470153</td><td>-0.3397011</td><td>-0.1323778</td><td> 1.08375058</td><td>-0.05127417</td><td> 1.6577635</td><td>-0.6439349</td><td>N</td></tr>\n",
              "\t<tr><th scope=row>4</th><td>-0.5537154</td><td>-0.5537131</td><td>-0.5532752</td><td> 1.4990834</td><td> 2.0137723</td><td>-0.6136605</td><td>F</td><td>F1</td><td>-0.7910666</td><td>MORTGAGE</td><td>⋯</td><td> 1.00830721</td><td> 0.2769175</td><td> 0.5133413</td><td>-0.3397011</td><td>-0.1323778</td><td> 1.40600086</td><td> 0.79407019</td><td>-0.1596492</td><td> 0.8750982</td><td>N</td></tr>\n",
              "\t<tr><th scope=row>5</th><td>-0.3864434</td><td>-0.3864411</td><td>-0.3859622</td><td>-0.6670735</td><td> 0.1561015</td><td>-0.1828745</td><td>C</td><td>C3</td><td>-0.5227429</td><td>RENT    </td><td>⋯</td><td>-1.14292994</td><td> 0.6541251</td><td> 1.6202457</td><td>-0.3397011</td><td>-0.1323778</td><td>-0.92808407</td><td>-0.81674745</td><td>-0.6290757</td><td>-0.9473211</td><td>N</td></tr>\n",
              "</tbody>\n",
              "</table>\n"
            ],
            "text/markdown": "\nA data.frame: 5 × 76\n\n| <!--/--> | loan_amnt &lt;dbl&gt; | funded_amnt &lt;dbl&gt; | funded_amnt_inv &lt;dbl&gt; | term &lt;dbl&gt; | int_rate &lt;dbl&gt; | installment &lt;dbl&gt; | grade &lt;chr&gt; | sub_grade &lt;chr&gt; | emp_length &lt;dbl&gt; | home_ownership &lt;chr&gt; | ⋯ ⋯ | num_tl_op_past_12m &lt;dbl&gt; | pct_tl_nvr_dlq &lt;dbl&gt; | percent_bc_gt_75 &lt;dbl&gt; | pub_rec_bankruptcies &lt;dbl&gt; | tax_liens &lt;dbl&gt; | tot_hi_cred_lim &lt;dbl&gt; | total_bal_ex_mort &lt;dbl&gt; | total_bc_limit &lt;dbl&gt; | total_il_high_credit_limit &lt;dbl&gt; | hardship_flag &lt;chr&gt; |\n|---|---|---|---|---|---|---|---|---|---|---|---|---|---|---|---|---|---|---|---|---|---|\n| 1 | -1.2875540 | -1.2875515 | -1.2872937 | -0.6670735 |  0.2694998 | -1.2373230 | C | C4 |  1.0871997 | MORTGAGE | ⋯ |  0.47049792 | -1.9086679 | -1.1470153 | -0.3397011 | -0.1323778 | -0.03817519 | -0.91482930 | -0.9305423 | -0.7363810 | N |\n| 2 |  0.9895040 |  0.9895059 |  0.9903224 | -0.6670735 | -0.1428577 |  1.3684336 | C | C1 |  1.0871997 | MORTGAGE | ⋯ | -0.06731137 |  0.3656722 | -0.9339362 | -0.3397011 | -0.1323778 |  0.71266714 | -0.29882794 |  2.3812833 | -0.4994580 | N |\n| 3 |  2.1010536 |  2.1010553 |  2.1021445 |  1.4990834 |  0.4468136 |  1.4043854 | C | C5 |  1.0871997 | MORTGAGE | ⋯ | -0.60512066 |  0.6541251 | -1.1470153 | -0.3397011 | -0.1323778 |  1.08375058 | -0.05127417 |  1.6577635 | -0.6439349 | N |\n| 4 | -0.5537154 | -0.5537131 | -0.5532752 |  1.4990834 |  2.0137723 | -0.6136605 | F | F1 | -0.7910666 | MORTGAGE | ⋯ |  1.00830721 |  0.2769175 |  0.5133413 | -0.3397011 | -0.1323778 |  1.40600086 |  0.79407019 | -0.1596492 |  0.8750982 | N |\n| 5 | -0.3864434 | -0.3864411 | -0.3859622 | -0.6670735 |  0.1561015 | -0.1828745 | C | C3 | -0.5227429 | RENT     | ⋯ | -1.14292994 |  0.6541251 |  1.6202457 | -0.3397011 | -0.1323778 | -0.92808407 | -0.81674745 | -0.6290757 | -0.9473211 | N |\n\n",
            "text/latex": "A data.frame: 5 × 76\n\\begin{tabular}{r|lllllllllllllllllllll}\n  & loan\\_amnt & funded\\_amnt & funded\\_amnt\\_inv & term & int\\_rate & installment & grade & sub\\_grade & emp\\_length & home\\_ownership & ⋯ & num\\_tl\\_op\\_past\\_12m & pct\\_tl\\_nvr\\_dlq & percent\\_bc\\_gt\\_75 & pub\\_rec\\_bankruptcies & tax\\_liens & tot\\_hi\\_cred\\_lim & total\\_bal\\_ex\\_mort & total\\_bc\\_limit & total\\_il\\_high\\_credit\\_limit & hardship\\_flag\\\\\n  & <dbl> & <dbl> & <dbl> & <dbl> & <dbl> & <dbl> & <chr> & <chr> & <dbl> & <chr> & ⋯ & <dbl> & <dbl> & <dbl> & <dbl> & <dbl> & <dbl> & <dbl> & <dbl> & <dbl> & <chr>\\\\\n\\hline\n\t1 & -1.2875540 & -1.2875515 & -1.2872937 & -0.6670735 &  0.2694998 & -1.2373230 & C & C4 &  1.0871997 & MORTGAGE & ⋯ &  0.47049792 & -1.9086679 & -1.1470153 & -0.3397011 & -0.1323778 & -0.03817519 & -0.91482930 & -0.9305423 & -0.7363810 & N\\\\\n\t2 &  0.9895040 &  0.9895059 &  0.9903224 & -0.6670735 & -0.1428577 &  1.3684336 & C & C1 &  1.0871997 & MORTGAGE & ⋯ & -0.06731137 &  0.3656722 & -0.9339362 & -0.3397011 & -0.1323778 &  0.71266714 & -0.29882794 &  2.3812833 & -0.4994580 & N\\\\\n\t3 &  2.1010536 &  2.1010553 &  2.1021445 &  1.4990834 &  0.4468136 &  1.4043854 & C & C5 &  1.0871997 & MORTGAGE & ⋯ & -0.60512066 &  0.6541251 & -1.1470153 & -0.3397011 & -0.1323778 &  1.08375058 & -0.05127417 &  1.6577635 & -0.6439349 & N\\\\\n\t4 & -0.5537154 & -0.5537131 & -0.5532752 &  1.4990834 &  2.0137723 & -0.6136605 & F & F1 & -0.7910666 & MORTGAGE & ⋯ &  1.00830721 &  0.2769175 &  0.5133413 & -0.3397011 & -0.1323778 &  1.40600086 &  0.79407019 & -0.1596492 &  0.8750982 & N\\\\\n\t5 & -0.3864434 & -0.3864411 & -0.3859622 & -0.6670735 &  0.1561015 & -0.1828745 & C & C3 & -0.5227429 & RENT     & ⋯ & -1.14292994 &  0.6541251 &  1.6202457 & -0.3397011 & -0.1323778 & -0.92808407 & -0.81674745 & -0.6290757 & -0.9473211 & N\\\\\n\\end{tabular}\n",
            "text/plain": [
              "  loan_amnt  funded_amnt funded_amnt_inv term       int_rate   installment\n",
              "1 -1.2875540 -1.2875515  -1.2872937      -0.6670735  0.2694998 -1.2373230 \n",
              "2  0.9895040  0.9895059   0.9903224      -0.6670735 -0.1428577  1.3684336 \n",
              "3  2.1010536  2.1010553   2.1021445       1.4990834  0.4468136  1.4043854 \n",
              "4 -0.5537154 -0.5537131  -0.5532752       1.4990834  2.0137723 -0.6136605 \n",
              "5 -0.3864434 -0.3864411  -0.3859622      -0.6670735  0.1561015 -0.1828745 \n",
              "  grade sub_grade emp_length home_ownership ⋯ num_tl_op_past_12m pct_tl_nvr_dlq\n",
              "1 C     C4         1.0871997 MORTGAGE       ⋯  0.47049792        -1.9086679    \n",
              "2 C     C1         1.0871997 MORTGAGE       ⋯ -0.06731137         0.3656722    \n",
              "3 C     C5         1.0871997 MORTGAGE       ⋯ -0.60512066         0.6541251    \n",
              "4 F     F1        -0.7910666 MORTGAGE       ⋯  1.00830721         0.2769175    \n",
              "5 C     C3        -0.5227429 RENT           ⋯ -1.14292994         0.6541251    \n",
              "  percent_bc_gt_75 pub_rec_bankruptcies tax_liens  tot_hi_cred_lim\n",
              "1 -1.1470153       -0.3397011           -0.1323778 -0.03817519    \n",
              "2 -0.9339362       -0.3397011           -0.1323778  0.71266714    \n",
              "3 -1.1470153       -0.3397011           -0.1323778  1.08375058    \n",
              "4  0.5133413       -0.3397011           -0.1323778  1.40600086    \n",
              "5  1.6202457       -0.3397011           -0.1323778 -0.92808407    \n",
              "  total_bal_ex_mort total_bc_limit total_il_high_credit_limit hardship_flag\n",
              "1 -0.91482930       -0.9305423     -0.7363810                 N            \n",
              "2 -0.29882794        2.3812833     -0.4994580                 N            \n",
              "3 -0.05127417        1.6577635     -0.6439349                 N            \n",
              "4  0.79407019       -0.1596492      0.8750982                 N            \n",
              "5 -0.81674745       -0.6290757     -0.9473211                 N            "
            ]
          },
          "metadata": {}
        }
      ]
    },
    {
      "cell_type": "code",
      "source": [
        "cat_cols <- sapply(data, function(x) !is.numeric(x))\n",
        "data[cat_cols] <- lapply(data[cat_cols], as.factor)\n",
        "head(data, 5)"
      ],
      "metadata": {
        "colab": {
          "base_uri": "https://localhost:8080/",
          "height": 0
        },
        "collapsed": true,
        "id": "lDGKj6ML2OSu",
        "outputId": "1ae58890-0987-46ea-e2f1-b9b1046c3968"
      },
      "execution_count": 17,
      "outputs": [
        {
          "output_type": "display_data",
          "data": {
            "text/html": [
              "<table class=\"dataframe\">\n",
              "<caption>A data.frame: 5 × 76</caption>\n",
              "<thead>\n",
              "\t<tr><th></th><th scope=col>loan_amnt</th><th scope=col>funded_amnt</th><th scope=col>funded_amnt_inv</th><th scope=col>term</th><th scope=col>int_rate</th><th scope=col>installment</th><th scope=col>grade</th><th scope=col>sub_grade</th><th scope=col>emp_length</th><th scope=col>home_ownership</th><th scope=col>⋯</th><th scope=col>num_tl_op_past_12m</th><th scope=col>pct_tl_nvr_dlq</th><th scope=col>percent_bc_gt_75</th><th scope=col>pub_rec_bankruptcies</th><th scope=col>tax_liens</th><th scope=col>tot_hi_cred_lim</th><th scope=col>total_bal_ex_mort</th><th scope=col>total_bc_limit</th><th scope=col>total_il_high_credit_limit</th><th scope=col>hardship_flag</th></tr>\n",
              "\t<tr><th></th><th scope=col>&lt;dbl&gt;</th><th scope=col>&lt;dbl&gt;</th><th scope=col>&lt;dbl&gt;</th><th scope=col>&lt;dbl&gt;</th><th scope=col>&lt;dbl&gt;</th><th scope=col>&lt;dbl&gt;</th><th scope=col>&lt;fct&gt;</th><th scope=col>&lt;fct&gt;</th><th scope=col>&lt;dbl&gt;</th><th scope=col>&lt;fct&gt;</th><th scope=col>⋯</th><th scope=col>&lt;dbl&gt;</th><th scope=col>&lt;dbl&gt;</th><th scope=col>&lt;dbl&gt;</th><th scope=col>&lt;dbl&gt;</th><th scope=col>&lt;dbl&gt;</th><th scope=col>&lt;dbl&gt;</th><th scope=col>&lt;dbl&gt;</th><th scope=col>&lt;dbl&gt;</th><th scope=col>&lt;dbl&gt;</th><th scope=col>&lt;fct&gt;</th></tr>\n",
              "</thead>\n",
              "<tbody>\n",
              "\t<tr><th scope=row>1</th><td>-1.2875540</td><td>-1.2875515</td><td>-1.2872937</td><td>-0.6670735</td><td> 0.2694998</td><td>-1.2373230</td><td>C</td><td>C4</td><td> 1.0871997</td><td>MORTGAGE</td><td>⋯</td><td> 0.47049792</td><td>-1.9086679</td><td>-1.1470153</td><td>-0.3397011</td><td>-0.1323778</td><td>-0.03817519</td><td>-0.91482930</td><td>-0.9305423</td><td>-0.7363810</td><td>N</td></tr>\n",
              "\t<tr><th scope=row>2</th><td> 0.9895040</td><td> 0.9895059</td><td> 0.9903224</td><td>-0.6670735</td><td>-0.1428577</td><td> 1.3684336</td><td>C</td><td>C1</td><td> 1.0871997</td><td>MORTGAGE</td><td>⋯</td><td>-0.06731137</td><td> 0.3656722</td><td>-0.9339362</td><td>-0.3397011</td><td>-0.1323778</td><td> 0.71266714</td><td>-0.29882794</td><td> 2.3812833</td><td>-0.4994580</td><td>N</td></tr>\n",
              "\t<tr><th scope=row>3</th><td> 2.1010536</td><td> 2.1010553</td><td> 2.1021445</td><td> 1.4990834</td><td> 0.4468136</td><td> 1.4043854</td><td>C</td><td>C5</td><td> 1.0871997</td><td>MORTGAGE</td><td>⋯</td><td>-0.60512066</td><td> 0.6541251</td><td>-1.1470153</td><td>-0.3397011</td><td>-0.1323778</td><td> 1.08375058</td><td>-0.05127417</td><td> 1.6577635</td><td>-0.6439349</td><td>N</td></tr>\n",
              "\t<tr><th scope=row>4</th><td>-0.5537154</td><td>-0.5537131</td><td>-0.5532752</td><td> 1.4990834</td><td> 2.0137723</td><td>-0.6136605</td><td>F</td><td>F1</td><td>-0.7910666</td><td>MORTGAGE</td><td>⋯</td><td> 1.00830721</td><td> 0.2769175</td><td> 0.5133413</td><td>-0.3397011</td><td>-0.1323778</td><td> 1.40600086</td><td> 0.79407019</td><td>-0.1596492</td><td> 0.8750982</td><td>N</td></tr>\n",
              "\t<tr><th scope=row>5</th><td>-0.3864434</td><td>-0.3864411</td><td>-0.3859622</td><td>-0.6670735</td><td> 0.1561015</td><td>-0.1828745</td><td>C</td><td>C3</td><td>-0.5227429</td><td>RENT    </td><td>⋯</td><td>-1.14292994</td><td> 0.6541251</td><td> 1.6202457</td><td>-0.3397011</td><td>-0.1323778</td><td>-0.92808407</td><td>-0.81674745</td><td>-0.6290757</td><td>-0.9473211</td><td>N</td></tr>\n",
              "</tbody>\n",
              "</table>\n"
            ],
            "text/markdown": "\nA data.frame: 5 × 76\n\n| <!--/--> | loan_amnt &lt;dbl&gt; | funded_amnt &lt;dbl&gt; | funded_amnt_inv &lt;dbl&gt; | term &lt;dbl&gt; | int_rate &lt;dbl&gt; | installment &lt;dbl&gt; | grade &lt;fct&gt; | sub_grade &lt;fct&gt; | emp_length &lt;dbl&gt; | home_ownership &lt;fct&gt; | ⋯ ⋯ | num_tl_op_past_12m &lt;dbl&gt; | pct_tl_nvr_dlq &lt;dbl&gt; | percent_bc_gt_75 &lt;dbl&gt; | pub_rec_bankruptcies &lt;dbl&gt; | tax_liens &lt;dbl&gt; | tot_hi_cred_lim &lt;dbl&gt; | total_bal_ex_mort &lt;dbl&gt; | total_bc_limit &lt;dbl&gt; | total_il_high_credit_limit &lt;dbl&gt; | hardship_flag &lt;fct&gt; |\n|---|---|---|---|---|---|---|---|---|---|---|---|---|---|---|---|---|---|---|---|---|---|\n| 1 | -1.2875540 | -1.2875515 | -1.2872937 | -0.6670735 |  0.2694998 | -1.2373230 | C | C4 |  1.0871997 | MORTGAGE | ⋯ |  0.47049792 | -1.9086679 | -1.1470153 | -0.3397011 | -0.1323778 | -0.03817519 | -0.91482930 | -0.9305423 | -0.7363810 | N |\n| 2 |  0.9895040 |  0.9895059 |  0.9903224 | -0.6670735 | -0.1428577 |  1.3684336 | C | C1 |  1.0871997 | MORTGAGE | ⋯ | -0.06731137 |  0.3656722 | -0.9339362 | -0.3397011 | -0.1323778 |  0.71266714 | -0.29882794 |  2.3812833 | -0.4994580 | N |\n| 3 |  2.1010536 |  2.1010553 |  2.1021445 |  1.4990834 |  0.4468136 |  1.4043854 | C | C5 |  1.0871997 | MORTGAGE | ⋯ | -0.60512066 |  0.6541251 | -1.1470153 | -0.3397011 | -0.1323778 |  1.08375058 | -0.05127417 |  1.6577635 | -0.6439349 | N |\n| 4 | -0.5537154 | -0.5537131 | -0.5532752 |  1.4990834 |  2.0137723 | -0.6136605 | F | F1 | -0.7910666 | MORTGAGE | ⋯ |  1.00830721 |  0.2769175 |  0.5133413 | -0.3397011 | -0.1323778 |  1.40600086 |  0.79407019 | -0.1596492 |  0.8750982 | N |\n| 5 | -0.3864434 | -0.3864411 | -0.3859622 | -0.6670735 |  0.1561015 | -0.1828745 | C | C3 | -0.5227429 | RENT     | ⋯ | -1.14292994 |  0.6541251 |  1.6202457 | -0.3397011 | -0.1323778 | -0.92808407 | -0.81674745 | -0.6290757 | -0.9473211 | N |\n\n",
            "text/latex": "A data.frame: 5 × 76\n\\begin{tabular}{r|lllllllllllllllllllll}\n  & loan\\_amnt & funded\\_amnt & funded\\_amnt\\_inv & term & int\\_rate & installment & grade & sub\\_grade & emp\\_length & home\\_ownership & ⋯ & num\\_tl\\_op\\_past\\_12m & pct\\_tl\\_nvr\\_dlq & percent\\_bc\\_gt\\_75 & pub\\_rec\\_bankruptcies & tax\\_liens & tot\\_hi\\_cred\\_lim & total\\_bal\\_ex\\_mort & total\\_bc\\_limit & total\\_il\\_high\\_credit\\_limit & hardship\\_flag\\\\\n  & <dbl> & <dbl> & <dbl> & <dbl> & <dbl> & <dbl> & <fct> & <fct> & <dbl> & <fct> & ⋯ & <dbl> & <dbl> & <dbl> & <dbl> & <dbl> & <dbl> & <dbl> & <dbl> & <dbl> & <fct>\\\\\n\\hline\n\t1 & -1.2875540 & -1.2875515 & -1.2872937 & -0.6670735 &  0.2694998 & -1.2373230 & C & C4 &  1.0871997 & MORTGAGE & ⋯ &  0.47049792 & -1.9086679 & -1.1470153 & -0.3397011 & -0.1323778 & -0.03817519 & -0.91482930 & -0.9305423 & -0.7363810 & N\\\\\n\t2 &  0.9895040 &  0.9895059 &  0.9903224 & -0.6670735 & -0.1428577 &  1.3684336 & C & C1 &  1.0871997 & MORTGAGE & ⋯ & -0.06731137 &  0.3656722 & -0.9339362 & -0.3397011 & -0.1323778 &  0.71266714 & -0.29882794 &  2.3812833 & -0.4994580 & N\\\\\n\t3 &  2.1010536 &  2.1010553 &  2.1021445 &  1.4990834 &  0.4468136 &  1.4043854 & C & C5 &  1.0871997 & MORTGAGE & ⋯ & -0.60512066 &  0.6541251 & -1.1470153 & -0.3397011 & -0.1323778 &  1.08375058 & -0.05127417 &  1.6577635 & -0.6439349 & N\\\\\n\t4 & -0.5537154 & -0.5537131 & -0.5532752 &  1.4990834 &  2.0137723 & -0.6136605 & F & F1 & -0.7910666 & MORTGAGE & ⋯ &  1.00830721 &  0.2769175 &  0.5133413 & -0.3397011 & -0.1323778 &  1.40600086 &  0.79407019 & -0.1596492 &  0.8750982 & N\\\\\n\t5 & -0.3864434 & -0.3864411 & -0.3859622 & -0.6670735 &  0.1561015 & -0.1828745 & C & C3 & -0.5227429 & RENT     & ⋯ & -1.14292994 &  0.6541251 &  1.6202457 & -0.3397011 & -0.1323778 & -0.92808407 & -0.81674745 & -0.6290757 & -0.9473211 & N\\\\\n\\end{tabular}\n",
            "text/plain": [
              "  loan_amnt  funded_amnt funded_amnt_inv term       int_rate   installment\n",
              "1 -1.2875540 -1.2875515  -1.2872937      -0.6670735  0.2694998 -1.2373230 \n",
              "2  0.9895040  0.9895059   0.9903224      -0.6670735 -0.1428577  1.3684336 \n",
              "3  2.1010536  2.1010553   2.1021445       1.4990834  0.4468136  1.4043854 \n",
              "4 -0.5537154 -0.5537131  -0.5532752       1.4990834  2.0137723 -0.6136605 \n",
              "5 -0.3864434 -0.3864411  -0.3859622      -0.6670735  0.1561015 -0.1828745 \n",
              "  grade sub_grade emp_length home_ownership ⋯ num_tl_op_past_12m pct_tl_nvr_dlq\n",
              "1 C     C4         1.0871997 MORTGAGE       ⋯  0.47049792        -1.9086679    \n",
              "2 C     C1         1.0871997 MORTGAGE       ⋯ -0.06731137         0.3656722    \n",
              "3 C     C5         1.0871997 MORTGAGE       ⋯ -0.60512066         0.6541251    \n",
              "4 F     F1        -0.7910666 MORTGAGE       ⋯  1.00830721         0.2769175    \n",
              "5 C     C3        -0.5227429 RENT           ⋯ -1.14292994         0.6541251    \n",
              "  percent_bc_gt_75 pub_rec_bankruptcies tax_liens  tot_hi_cred_lim\n",
              "1 -1.1470153       -0.3397011           -0.1323778 -0.03817519    \n",
              "2 -0.9339362       -0.3397011           -0.1323778  0.71266714    \n",
              "3 -1.1470153       -0.3397011           -0.1323778  1.08375058    \n",
              "4  0.5133413       -0.3397011           -0.1323778  1.40600086    \n",
              "5  1.6202457       -0.3397011           -0.1323778 -0.92808407    \n",
              "  total_bal_ex_mort total_bc_limit total_il_high_credit_limit hardship_flag\n",
              "1 -0.91482930       -0.9305423     -0.7363810                 N            \n",
              "2 -0.29882794        2.3812833     -0.4994580                 N            \n",
              "3 -0.05127417        1.6577635     -0.6439349                 N            \n",
              "4  0.79407019       -0.1596492      0.8750982                 N            \n",
              "5 -0.81674745       -0.6290757     -0.9473211                 N            "
            ]
          },
          "metadata": {}
        }
      ]
    },
    {
      "cell_type": "code",
      "source": [
        "install.packages(\"fastDummies\")\n",
        "library(fastDummies)\n",
        "\n",
        "new_data <- fastDummies::dummy_cols(data,\n",
        "                                             select_columns = c(\"sub_grade\", \"hardship_flag\", \"initial_list_status\",\n",
        "                                                                \"application_type\", \"home_ownership\", \"pymnt_plan\"),\n",
        "                                             remove_first_dummy = TRUE, remove_selected_columns = TRUE)\n"
      ],
      "metadata": {
        "colab": {
          "base_uri": "https://localhost:8080/"
        },
        "id": "BjHGbfbN7Ze5",
        "outputId": "f9f5d37b-6290-4fe5-8e4c-bc85b7d10b86"
      },
      "execution_count": 29,
      "outputs": [
        {
          "output_type": "stream",
          "name": "stderr",
          "text": [
            "Installing package into ‘/usr/local/lib/R/site-library’\n",
            "(as ‘lib’ is unspecified)\n",
            "\n"
          ]
        }
      ]
    },
    {
      "cell_type": "code",
      "source": [
        "new_data"
      ],
      "metadata": {
        "colab": {
          "base_uri": "https://localhost:8080/",
          "height": 0
        },
        "collapsed": true,
        "id": "2an3IY2R717M",
        "outputId": "5bfdf511-028c-43f1-cd1f-9ec3d3a5240f"
      },
      "execution_count": 30,
      "outputs": [
        {
          "output_type": "display_data",
          "data": {
            "text/html": [
              "<table class=\"dataframe\">\n",
              "<caption>A data.frame: 886812 × 112</caption>\n",
              "<thead>\n",
              "\t<tr><th scope=col>loan_amnt</th><th scope=col>funded_amnt</th><th scope=col>funded_amnt_inv</th><th scope=col>term</th><th scope=col>int_rate</th><th scope=col>installment</th><th scope=col>grade</th><th scope=col>emp_length</th><th scope=col>annual_inc</th><th scope=col>dti</th><th scope=col>⋯</th><th scope=col>sub_grade_G4</th><th scope=col>sub_grade_G5</th><th scope=col>hardship_flag_Y</th><th scope=col>initial_list_status_w</th><th scope=col>application_type_Joint App</th><th scope=col>home_ownership_MORTGAGE</th><th scope=col>home_ownership_NONE</th><th scope=col>home_ownership_OWN</th><th scope=col>home_ownership_RENT</th><th scope=col>pymnt_plan_y</th></tr>\n",
              "\t<tr><th scope=col>&lt;dbl&gt;</th><th scope=col>&lt;dbl&gt;</th><th scope=col>&lt;dbl&gt;</th><th scope=col>&lt;dbl&gt;</th><th scope=col>&lt;dbl&gt;</th><th scope=col>&lt;dbl&gt;</th><th scope=col>&lt;fct&gt;</th><th scope=col>&lt;dbl&gt;</th><th scope=col>&lt;dbl&gt;</th><th scope=col>&lt;dbl&gt;</th><th scope=col>⋯</th><th scope=col>&lt;int&gt;</th><th scope=col>&lt;int&gt;</th><th scope=col>&lt;int&gt;</th><th scope=col>&lt;int&gt;</th><th scope=col>&lt;int&gt;</th><th scope=col>&lt;int&gt;</th><th scope=col>&lt;int&gt;</th><th scope=col>&lt;int&gt;</th><th scope=col>&lt;int&gt;</th><th scope=col>&lt;int&gt;</th></tr>\n",
              "</thead>\n",
              "<tbody>\n",
              "\t<tr><td>-1.28755402</td><td>-1.28755153</td><td>-1.28729369</td><td>-0.6670735</td><td> 0.26949983</td><td>-1.237323023</td><td>C</td><td> 1.08719968</td><td>-0.18380789</td><td>-1.11260323</td><td>⋯</td><td>0</td><td>0</td><td>0</td><td>1</td><td>0</td><td>1</td><td>0</td><td>0</td><td>0</td><td>0</td></tr>\n",
              "\t<tr><td> 0.98950395</td><td> 0.98950591</td><td> 0.99032242</td><td>-0.6670735</td><td>-0.14285774</td><td> 1.368433642</td><td>C</td><td> 1.08719968</td><td>-0.11229431</td><td>-0.26839198</td><td>⋯</td><td>0</td><td>0</td><td>0</td><td>1</td><td>0</td><td>1</td><td>0</td><td>0</td><td>0</td><td>0</td></tr>\n",
              "\t<tr><td> 2.10105358</td><td> 2.10105528</td><td> 2.10214450</td><td> 1.4990834</td><td> 0.44681358</td><td> 1.404385422</td><td>C</td><td> 1.08719968</td><td> 0.20951681</td><td>-0.18521846</td><td>⋯</td><td>0</td><td>0</td><td>0</td><td>1</td><td>0</td><td>1</td><td>0</td><td>0</td><td>0</td><td>0</td></tr>\n",
              "\t<tr><td>-0.55371543</td><td>-0.55371311</td><td>-0.55327523</td><td> 1.4990834</td><td> 2.01377234</td><td>-0.613660531</td><td>F</td><td>-0.79106661</td><td> 0.16970520</td><td> 0.50595351</td><td>⋯</td><td>0</td><td>0</td><td>0</td><td>1</td><td>0</td><td>1</td><td>0</td><td>0</td><td>0</td><td>0</td></tr>\n",
              "\t<tr><td>-0.38644340</td><td>-0.38644112</td><td>-0.38596220</td><td>-0.6670735</td><td> 0.15610150</td><td>-0.182874485</td><td>C</td><td>-0.52274285</td><td>-0.33398641</td><td>-0.75578882</td><td>⋯</td><td>0</td><td>0</td><td>0</td><td>1</td><td>0</td><td>0</td><td>0</td><td>0</td><td>1</td><td>0</td></tr>\n",
              "\t<tr><td> 0.48229199</td><td> 0.48229407</td><td> 0.48298613</td><td>-0.6670735</td><td>-0.72428191</td><td> 0.685648783</td><td>B</td><td> 1.08719968</td><td> 0.71011189</td><td>-0.38400318</td><td>⋯</td><td>0</td><td>0</td><td>0</td><td>0</td><td>0</td><td>1</td><td>0</td><td>0</td><td>0</td><td>0</td></tr>\n",
              "\t<tr><td> 0.48229199</td><td> 0.48229407</td><td> 0.48298613</td><td>-0.6670735</td><td>-0.86448349</td><td> 0.662029734</td><td>B</td><td> 1.08719968</td><td> 0.03073286</td><td>-0.13947302</td><td>⋯</td><td>0</td><td>0</td><td>0</td><td>1</td><td>0</td><td>1</td><td>0</td><td>0</td><td>0</td><td>0</td></tr>\n",
              "\t<tr><td>-0.59688241</td><td>-0.59688008</td><td>-0.59645279</td><td>-0.6670735</td><td>-1.27684105</td><td>-0.551847387</td><td>A</td><td> 0.01390466</td><td> 0.03073286</td><td>-0.51708081</td><td>⋯</td><td>0</td><td>0</td><td>0</td><td>1</td><td>0</td><td>0</td><td>0</td><td>0</td><td>1</td><td>0</td></tr>\n",
              "\t<tr><td>-0.81271729</td><td>-0.81271491</td><td>-0.81234057</td><td>-0.6670735</td><td>-0.24800892</td><td>-0.711462829</td><td>B</td><td> 1.08719968</td><td>-0.27677555</td><td> 1.29027983</td><td>⋯</td><td>0</td><td>0</td><td>0</td><td>1</td><td>0</td><td>1</td><td>0</td><td>0</td><td>0</td><td>0</td></tr>\n",
              "\t<tr><td> 0.74129384</td><td> 0.74129586</td><td> 0.74205147</td><td> 1.4990834</td><td> 0.04064138</td><td> 0.202504686</td><td>C</td><td> 0.01390466</td><td> 0.10224644</td><td> 0.30716879</td><td>⋯</td><td>0</td><td>0</td><td>0</td><td>1</td><td>0</td><td>1</td><td>0</td><td>0</td><td>0</td><td>0</td></tr>\n",
              "\t<tr><td> 0.05062223</td><td> 0.05062441</td><td> 0.05121056</td><td> 1.4990834</td><td> 0.04064138</td><td>-0.340247613</td><td>C</td><td>-1.32771412</td><td>-0.07653752</td><td> 0.59162224</td><td>⋯</td><td>0</td><td>0</td><td>0</td><td>1</td><td>0</td><td>1</td><td>0</td><td>0</td><td>0</td><td>0</td></tr>\n",
              "\t<tr><td> 0.26645711</td><td> 0.26645924</td><td> 0.26709834</td><td> 1.4990834</td><td> 1.40142136</td><td> 0.065723483</td><td>E</td><td> 0.28222841</td><td> 0.49557114</td><td>-0.82315938</td><td>⋯</td><td>0</td><td>0</td><td>0</td><td>1</td><td>0</td><td>0</td><td>0</td><td>0</td><td>1</td><td>0</td></tr>\n",
              "\t<tr><td> 1.34563150</td><td> 1.34563338</td><td> 1.34653726</td><td>-0.6670735</td><td>-1.27684105</td><td> 1.509587359</td><td>A</td><td> 1.08719968</td><td> 0.08079236</td><td> 0.19238933</td><td>⋯</td><td>0</td><td>0</td><td>0</td><td>1</td><td>0</td><td>1</td><td>0</td><td>0</td><td>0</td><td>0</td></tr>\n",
              "\t<tr><td>-0.64004938</td><td>-0.64004704</td><td>-0.63963034</td><td>-0.6670735</td><td>-1.07066227</td><td>-0.581259082</td><td>A</td><td> 0.55055217</td><td>-0.14805110</td><td> 0.26225509</td><td>⋯</td><td>0</td><td>0</td><td>0</td><td>1</td><td>0</td><td>1</td><td>0</td><td>0</td><td>0</td><td>0</td></tr>\n",
              "\t<tr><td> 1.02187918</td><td> 1.02188114</td><td> 1.02270559</td><td>-0.6670735</td><td>-1.07066227</td><td> 1.208743456</td><td>A</td><td> 1.08719968</td><td> 0.20236545</td><td> 0.56001630</td><td>⋯</td><td>0</td><td>0</td><td>0</td><td>1</td><td>0</td><td>1</td><td>0</td><td>0</td><td>0</td><td>0</td></tr>\n",
              "\t<tr><td> 0.26645711</td><td> 0.26645924</td><td> 0.26709834</td><td> 1.4990834</td><td>-0.14285774</td><td>-0.201074607</td><td>C</td><td> 1.08719968</td><td> 0.22381953</td><td>-0.88221258</td><td>⋯</td><td>0</td><td>0</td><td>0</td><td>1</td><td>0</td><td>1</td><td>0</td><td>0</td><td>0</td><td>0</td></tr>\n",
              "\t<tr><td> 0.80604430</td><td> 0.80604631</td><td> 0.80681780</td><td> 1.4990834</td><td>-0.86448349</td><td> 0.065985086</td><td>B</td><td>-0.25441910</td><td>-0.11944567</td><td>-0.08374676</td><td>⋯</td><td>0</td><td>0</td><td>0</td><td>1</td><td>0</td><td>0</td><td>0</td><td>0</td><td>1</td><td>0</td></tr>\n",
              "\t<tr><td> 1.55067464</td><td> 1.55067647</td><td> 1.55163066</td><td> 1.4990834</td><td> 0.04064138</td><td> 0.838537281</td><td>C</td><td> 1.08719968</td><td>-0.11229431</td><td> 0.20652883</td><td>⋯</td><td>0</td><td>0</td><td>0</td><td>1</td><td>0</td><td>1</td><td>0</td><td>0</td><td>0</td><td>0</td></tr>\n",
              "\t<tr><td> 0.05062223</td><td> 0.05062441</td><td> 0.05121056</td><td> 1.4990834</td><td> 0.44681358</td><td>-0.279256650</td><td>C</td><td> 1.08719968</td><td>-0.23386740</td><td> 1.15553872</td><td>⋯</td><td>0</td><td>0</td><td>0</td><td>1</td><td>0</td><td>1</td><td>0</td><td>0</td><td>0</td><td>0</td></tr>\n",
              "\t<tr><td> 1.34563150</td><td> 1.34563338</td><td> 1.34653726</td><td>-0.6670735</td><td> 0.15610150</td><td> 1.850905044</td><td>C</td><td>-1.05939036</td><td> 0.31678719</td><td>-0.98118907</td><td>⋯</td><td>0</td><td>0</td><td>0</td><td>1</td><td>0</td><td>0</td><td>0</td><td>1</td><td>0</td><td>0</td></tr>\n",
              "\t<tr><td>-1.13646960</td><td>-1.13646715</td><td>-1.13617225</td><td>-0.6670735</td><td> 0.15610150</td><td>-1.063506253</td><td>C</td><td>-1.05939036</td><td>-0.01217529</td><td>-0.54785502</td><td>⋯</td><td>0</td><td>0</td><td>0</td><td>1</td><td>0</td><td>0</td><td>0</td><td>0</td><td>1</td><td>0</td></tr>\n",
              "\t<tr><td>-1.02855216</td><td>-1.02854974</td><td>-1.02822835</td><td>-0.6670735</td><td>-1.07066227</td><td>-0.999712397</td><td>A</td><td> 1.08719968</td><td> 0.13800323</td><td>-0.49961437</td><td>⋯</td><td>0</td><td>0</td><td>0</td><td>1</td><td>0</td><td>1</td><td>0</td><td>0</td><td>0</td><td>0</td></tr>\n",
              "\t<tr><td>-1.22010562</td><td>-1.22010315</td><td>-1.21982876</td><td>-0.6670735</td><td> 0.44681358</td><td>-1.150881787</td><td>C</td><td>-0.25441910</td><td>-0.32683506</td><td>-0.33825774</td><td>⋯</td><td>0</td><td>0</td><td>0</td><td>1</td><td>0</td><td>0</td><td>0</td><td>0</td><td>1</td><td>0</td></tr>\n",
              "\t<tr><td> 0.48229199</td><td> 0.48229407</td><td> 0.48298613</td><td>-0.6670735</td><td>-1.51807023</td><td> 0.553800673</td><td>A</td><td> 0.81887592</td><td>-0.11229431</td><td>-0.03800133</td><td>⋯</td><td>0</td><td>0</td><td>0</td><td>1</td><td>0</td><td>0</td><td>0</td><td>1</td><td>0</td><td>0</td></tr>\n",
              "\t<tr><td> 0.05062223</td><td> 0.05062441</td><td> 0.05121056</td><td> 1.4990834</td><td> 1.09009139</td><td>-0.179660501</td><td>D</td><td>-1.59603787</td><td> 0.20236545</td><td> 0.33794300</td><td>⋯</td><td>0</td><td>0</td><td>0</td><td>1</td><td>0</td><td>1</td><td>0</td><td>0</td><td>0</td><td>0</td></tr>\n",
              "\t<tr><td> 0.22329013</td><td> 0.22329227</td><td> 0.22392079</td><td>-0.6670735</td><td>-1.51807023</td><td> 0.283713854</td><td>A</td><td>-1.59603787</td><td> 0.05218693</td><td> 0.60742521</td><td>⋯</td><td>0</td><td>0</td><td>0</td><td>1</td><td>0</td><td>1</td><td>0</td><td>0</td><td>0</td><td>0</td></tr>\n",
              "\t<tr><td>-0.05729521</td><td>-0.05729301</td><td>-0.05673333</td><td>-0.6670735</td><td>-1.51807023</td><td>-0.008908228</td><td>A</td><td> 1.08719968</td><td>-0.26247283</td><td>-0.32827692</td><td>⋯</td><td>0</td><td>0</td><td>0</td><td>1</td><td>0</td><td>1</td><td>0</td><td>0</td><td>0</td><td>0</td></tr>\n",
              "\t<tr><td> 0.05062223</td><td> 0.05062441</td><td> 0.05121056</td><td>-0.6670735</td><td> 0.04064138</td><td> 0.314171964</td><td>C</td><td> 1.08719968</td><td>-0.11229431</td><td>-0.02718877</td><td>⋯</td><td>0</td><td>0</td><td>0</td><td>1</td><td>0</td><td>1</td><td>0</td><td>0</td><td>0</td><td>0</td></tr>\n",
              "\t<tr><td>-0.38104753</td><td>-0.38104525</td><td>-0.38056500</td><td>-0.6670735</td><td>-0.39233407</td><td>-0.233550800</td><td>B</td><td>-1.32771412</td><td> 0.12370051</td><td> 0.39533273</td><td>⋯</td><td>0</td><td>0</td><td>0</td><td>1</td><td>0</td><td>0</td><td>0</td><td>0</td><td>1</td><td>0</td></tr>\n",
              "\t<tr><td> 1.02187918</td><td> 1.02188114</td><td> 1.02270559</td><td> 1.4990834</td><td> 0.26949983</td><td> 0.476366068</td><td>C</td><td> 0.81887592</td><td>-0.01217529</td><td> 1.26782297</td><td>⋯</td><td>0</td><td>0</td><td>0</td><td>1</td><td>0</td><td>1</td><td>0</td><td>0</td><td>0</td><td>0</td></tr>\n",
              "\t<tr><td>⋮</td><td>⋮</td><td>⋮</td><td>⋮</td><td>⋮</td><td>⋮</td><td>⋮</td><td>⋮</td><td>⋮</td><td>⋮</td><td>⋱</td><td>⋮</td><td>⋮</td><td>⋮</td><td>⋮</td><td>⋮</td><td>⋮</td><td>⋮</td><td>⋮</td><td>⋮</td><td>⋮</td></tr>\n",
              "\t<tr><td>-1.13646960</td><td>-1.13646715</td><td>-1.13617225</td><td>-0.6670735</td><td>-0.14285774</td><td>-1.0765491</td><td>C</td><td>-1.59603787</td><td>-0.491316295</td><td> 1.06571132</td><td>⋯</td><td>0</td><td>0</td><td>0</td><td>1</td><td>0</td><td>0</td><td>0</td><td>0</td><td>1</td><td>0</td></tr>\n",
              "\t<tr><td> 0.91396174</td><td> 0.91396372</td><td> 0.91476169</td><td> 1.4990834</td><td> 1.91480653</td><td> 0.7785927</td><td>E</td><td>-0.79106661</td><td>-0.112294308</td><td>-0.24926207</td><td>⋯</td><td>0</td><td>0</td><td>0</td><td>1</td><td>0</td><td>0</td><td>0</td><td>0</td><td>1</td><td>0</td></tr>\n",
              "\t<tr><td>-0.70479985</td><td>-0.70479749</td><td>-0.70439668</td><td>-0.6670735</td><td> 0.20352262</td><td>-0.5529312</td><td>C</td><td> 0.01390466</td><td>-0.376894563</td><td> 2.02886070</td><td>⋯</td><td>0</td><td>0</td><td>0</td><td>1</td><td>0</td><td>0</td><td>0</td><td>1</td><td>0</td><td>0</td></tr>\n",
              "\t<tr><td> 1.02187918</td><td> 1.02188114</td><td> 1.02270559</td><td> 1.4990834</td><td>-0.60469822</td><td> 0.2765384</td><td>B</td><td> 1.08719968</td><td>-0.005023935</td><td>-0.38733012</td><td>⋯</td><td>0</td><td>0</td><td>0</td><td>1</td><td>0</td><td>1</td><td>0</td><td>0</td><td>0</td><td>0</td></tr>\n",
              "\t<tr><td>-0.38104753</td><td>-0.38104525</td><td>-0.38056500</td><td>-0.6670735</td><td>-0.98819076</td><td>-0.2940559</td><td>A</td><td>-0.52274285</td><td> 0.209516812</td><td>-0.49628743</td><td>⋯</td><td>0</td><td>0</td><td>0</td><td>1</td><td>0</td><td>1</td><td>0</td><td>0</td><td>0</td><td>0</td></tr>\n",
              "\t<tr><td>-0.92063473</td><td>-0.92063232</td><td>-0.92028446</td><td>-0.6670735</td><td> 0.06332104</td><td>-0.8157678</td><td>C</td><td> 0.28222841</td><td>-0.112294308</td><td>-0.36820021</td><td>⋯</td><td>0</td><td>0</td><td>0</td><td>1</td><td>0</td><td>1</td><td>0</td><td>0</td><td>0</td><td>0</td></tr>\n",
              "\t<tr><td>-0.38104753</td><td>-0.38104525</td><td>-0.38056500</td><td> 1.4990834</td><td> 1.66326841</td><td>-0.4901464</td><td>E</td><td>-0.79106661</td><td>-0.262472831</td><td> 1.46577596</td><td>⋯</td><td>0</td><td>0</td><td>0</td><td>1</td><td>0</td><td>0</td><td>0</td><td>0</td><td>1</td><td>0</td></tr>\n",
              "\t<tr><td> 2.10105358</td><td> 2.10105528</td><td> 2.10214450</td><td> 1.4990834</td><td> 2.72096558</td><td> 2.2098996</td><td>F</td><td>-0.79106661</td><td> 0.145154588</td><td> 0.56417498</td><td>⋯</td><td>0</td><td>0</td><td>0</td><td>1</td><td>0</td><td>0</td><td>0</td><td>0</td><td>1</td><td>0</td></tr>\n",
              "\t<tr><td>-0.97459345</td><td>-0.97459103</td><td>-0.97425641</td><td>-0.6670735</td><td>-0.14285774</td><td>-0.8903622</td><td>C</td><td>-0.79106661</td><td>-0.162353816</td><td>-0.24260819</td><td>⋯</td><td>0</td><td>0</td><td>0</td><td>1</td><td>0</td><td>1</td><td>0</td><td>0</td><td>0</td><td>0</td></tr>\n",
              "\t<tr><td>-0.59688241</td><td>-0.59688008</td><td>-0.59645279</td><td>-0.6670735</td><td> 0.06332104</td><td>-0.4380499</td><td>C</td><td>-1.32771412</td><td>-0.112294308</td><td>-0.17606937</td><td>⋯</td><td>0</td><td>0</td><td>0</td><td>1</td><td>0</td><td>0</td><td>0</td><td>1</td><td>0</td><td>0</td></tr>\n",
              "\t<tr><td>-1.13646960</td><td>-1.13646715</td><td>-1.13617225</td><td>-0.6670735</td><td> 0.20352262</td><td>-1.0614508</td><td>C</td><td> 1.08719968</td><td> 0.059338289</td><td> 0.23397609</td><td>⋯</td><td>0</td><td>0</td><td>0</td><td>1</td><td>0</td><td>1</td><td>0</td><td>0</td><td>0</td><td>0</td></tr>\n",
              "\t<tr><td>-0.48896497</td><td>-0.48896266</td><td>-0.48850890</td><td>-0.6670735</td><td>-0.14285774</td><td>-0.3318763</td><td>C</td><td>-0.25441910</td><td>-0.105142950</td><td>-1.06852127</td><td>⋯</td><td>0</td><td>0</td><td>0</td><td>1</td><td>0</td><td>0</td><td>0</td><td>0</td><td>1</td><td>0</td></tr>\n",
              "\t<tr><td>-0.89905124</td><td>-0.89904884</td><td>-0.89869568</td><td>-0.6670735</td><td>-0.25007071</td><td>-0.8101621</td><td>B</td><td>-1.59603787</td><td>-0.005023935</td><td>-0.21017052</td><td>⋯</td><td>0</td><td>0</td><td>0</td><td>1</td><td>0</td><td>0</td><td>0</td><td>0</td><td>1</td><td>0</td></tr>\n",
              "\t<tr><td> 2.10105358</td><td> 2.10105528</td><td> 2.10214450</td><td> 1.4990834</td><td>-0.60469822</td><td> 1.0659827</td><td>B</td><td> 1.08719968</td><td> 0.852752880</td><td>-0.17773284</td><td>⋯</td><td>0</td><td>0</td><td>0</td><td>1</td><td>0</td><td>1</td><td>0</td><td>0</td><td>0</td><td>0</td></tr>\n",
              "\t<tr><td>-1.02855216</td><td>-1.02854974</td><td>-1.02822835</td><td>-0.6670735</td><td>-1.27684105</td><td>-1.0099523</td><td>A</td><td> 1.08719968</td><td> 0.066489648</td><td>-0.74248106</td><td>⋯</td><td>0</td><td>0</td><td>0</td><td>1</td><td>0</td><td>1</td><td>0</td><td>0</td><td>0</td><td>0</td></tr>\n",
              "\t<tr><td> 0.91396174</td><td> 0.91396372</td><td> 0.91476169</td><td> 1.4990834</td><td> 0.06332104</td><td> 0.3432473</td><td>C</td><td>-1.05939036</td><td> 0.066489648</td><td>-0.76660138</td><td>⋯</td><td>0</td><td>0</td><td>0</td><td>1</td><td>0</td><td>0</td><td>0</td><td>0</td><td>1</td><td>0</td></tr>\n",
              "\t<tr><td> 1.56146638</td><td> 1.56146821</td><td> 1.56242504</td><td> 1.4990834</td><td> 2.15397392</td><td> 1.4718791</td><td>F</td><td>-0.25441910</td><td> 0.710111889</td><td> 1.36679947</td><td>⋯</td><td>0</td><td>0</td><td>0</td><td>1</td><td>0</td><td>1</td><td>0</td><td>0</td><td>0</td><td>0</td></tr>\n",
              "\t<tr><td>-0.59688241</td><td>-0.59688008</td><td>-0.59645279</td><td>-0.6670735</td><td>-0.25007071</td><td>-0.4652567</td><td>B</td><td> 1.08719968</td><td> 0.495571142</td><td> 0.07677814</td><td>⋯</td><td>0</td><td>0</td><td>0</td><td>1</td><td>0</td><td>1</td><td>0</td><td>0</td><td>0</td><td>0</td></tr>\n",
              "\t<tr><td> 1.56146638</td><td> 1.56146821</td><td> 1.56242504</td><td> 1.4990834</td><td> 0.54165582</td><td> 0.9883987</td><td>C</td><td>-1.05939036</td><td> 0.138003230</td><td> 0.51177566</td><td>⋯</td><td>0</td><td>0</td><td>0</td><td>1</td><td>0</td><td>1</td><td>0</td><td>0</td><td>0</td><td>0</td></tr>\n",
              "\t<tr><td>-0.38104753</td><td>-0.38104525</td><td>-0.38056500</td><td>-0.6670735</td><td> 0.20352262</td><td>-0.1715134</td><td>C</td><td> 1.08719968</td><td> 0.424057559</td><td>-0.66346621</td><td>⋯</td><td>0</td><td>0</td><td>0</td><td>1</td><td>0</td><td>1</td><td>0</td><td>0</td><td>0</td><td>0</td></tr>\n",
              "\t<tr><td>-0.59688241</td><td>-0.59688008</td><td>-0.59645279</td><td>-0.6670735</td><td> 0.36640386</td><td>-0.4114411</td><td>C</td><td> 1.08719968</td><td> 0.009278782</td><td>-0.26922372</td><td>⋯</td><td>0</td><td>0</td><td>0</td><td>1</td><td>0</td><td>1</td><td>0</td><td>0</td><td>0</td><td>0</td></tr>\n",
              "\t<tr><td>-0.59688241</td><td>-0.59688008</td><td>-0.59645279</td><td>-0.6670735</td><td>-1.51807023</td><td>-0.5716545</td><td>A</td><td> 1.08719968</td><td> 0.023581498</td><td>-0.71919247</td><td>⋯</td><td>0</td><td>0</td><td>0</td><td>1</td><td>0</td><td>0</td><td>0</td><td>1</td><td>0</td><td>0</td></tr>\n",
              "\t<tr><td>-0.26233835</td><td>-0.26233609</td><td>-0.26182672</td><td>-0.6670735</td><td>-0.60469822</td><td>-0.1231168</td><td>B</td><td>-1.59603787</td><td>-0.183807891</td><td> 0.28138500</td><td>⋯</td><td>0</td><td>0</td><td>0</td><td>1</td><td>0</td><td>0</td><td>0</td><td>0</td><td>1</td><td>0</td></tr>\n",
              "\t<tr><td> 0.26645711</td><td> 0.26645924</td><td> 0.26709834</td><td>-0.6670735</td><td> 0.20352262</td><td> 0.5912473</td><td>C</td><td> 0.01390466</td><td> 0.281030395</td><td>-0.11036229</td><td>⋯</td><td>0</td><td>0</td><td>0</td><td>1</td><td>0</td><td>1</td><td>0</td><td>0</td><td>0</td><td>0</td></tr>\n",
              "\t<tr><td>-0.05729521</td><td>-0.05729301</td><td>-0.05673333</td><td> 1.4990834</td><td> 1.66326841</td><td>-0.1884055</td><td>E</td><td> 1.08719968</td><td>-0.212413324</td><td> 2.33743447</td><td>⋯</td><td>0</td><td>0</td><td>0</td><td>1</td><td>0</td><td>1</td><td>0</td><td>0</td><td>0</td><td>0</td></tr>\n",
              "\t<tr><td>-0.38104753</td><td>-0.38104525</td><td>-0.38056500</td><td> 1.4990834</td><td> 0.06332104</td><td>-0.6769312</td><td>C</td><td> 1.08719968</td><td>-0.283926906</td><td> 0.52425169</td><td>⋯</td><td>0</td><td>0</td><td>0</td><td>1</td><td>0</td><td>0</td><td>0</td><td>1</td><td>0</td><td>0</td></tr>\n",
              "\t<tr><td>-0.12204567</td><td>-0.12204346</td><td>-0.12149966</td><td>-0.6670735</td><td> 0.74371103</td><td> 0.2026168</td><td>D</td><td> 1.08719968</td><td>-0.255321473</td><td> 1.20377936</td><td>⋯</td><td>0</td><td>0</td><td>0</td><td>1</td><td>0</td><td>0</td><td>0</td><td>0</td><td>1</td><td>0</td></tr>\n",
              "\t<tr><td>-0.59688241</td><td>-0.59688008</td><td>-0.59645279</td><td>-0.6670735</td><td>-0.25007071</td><td>-0.4652567</td><td>B</td><td> 1.08719968</td><td> 0.388300768</td><td> 0.59245397</td><td>⋯</td><td>0</td><td>0</td><td>0</td><td>1</td><td>0</td><td>1</td><td>0</td><td>0</td><td>0</td><td>0</td></tr>\n",
              "\t<tr><td> 0.05062223</td><td> 0.05062441</td><td> 0.05121056</td><td>-0.6670735</td><td>-0.39851943</td><td> 0.2534426</td><td>B</td><td>-1.59603787</td><td>-0.076537517</td><td> 0.19821148</td><td>⋯</td><td>0</td><td>0</td><td>0</td><td>1</td><td>0</td><td>1</td><td>0</td><td>0</td><td>0</td><td>0</td></tr>\n",
              "\t<tr><td>-1.56813936</td><td>-1.56813681</td><td>-1.56794781</td><td>-0.6670735</td><td>-1.27684105</td><td>-1.5825648</td><td>A</td><td> 1.08719968</td><td>-0.112294308</td><td>-0.91132331</td><td>⋯</td><td>0</td><td>0</td><td>0</td><td>1</td><td>0</td><td>1</td><td>0</td><td>0</td><td>0</td><td>0</td></tr>\n",
              "</tbody>\n",
              "</table>\n"
            ],
            "text/markdown": "\nA data.frame: 886812 × 112\n\n| loan_amnt &lt;dbl&gt; | funded_amnt &lt;dbl&gt; | funded_amnt_inv &lt;dbl&gt; | term &lt;dbl&gt; | int_rate &lt;dbl&gt; | installment &lt;dbl&gt; | grade &lt;fct&gt; | emp_length &lt;dbl&gt; | annual_inc &lt;dbl&gt; | dti &lt;dbl&gt; | ⋯ ⋯ | sub_grade_G4 &lt;int&gt; | sub_grade_G5 &lt;int&gt; | hardship_flag_Y &lt;int&gt; | initial_list_status_w &lt;int&gt; | application_type_Joint App &lt;int&gt; | home_ownership_MORTGAGE &lt;int&gt; | home_ownership_NONE &lt;int&gt; | home_ownership_OWN &lt;int&gt; | home_ownership_RENT &lt;int&gt; | pymnt_plan_y &lt;int&gt; |\n|---|---|---|---|---|---|---|---|---|---|---|---|---|---|---|---|---|---|---|---|---|\n| -1.28755402 | -1.28755153 | -1.28729369 | -0.6670735 |  0.26949983 | -1.237323023 | C |  1.08719968 | -0.18380789 | -1.11260323 | ⋯ | 0 | 0 | 0 | 1 | 0 | 1 | 0 | 0 | 0 | 0 |\n|  0.98950395 |  0.98950591 |  0.99032242 | -0.6670735 | -0.14285774 |  1.368433642 | C |  1.08719968 | -0.11229431 | -0.26839198 | ⋯ | 0 | 0 | 0 | 1 | 0 | 1 | 0 | 0 | 0 | 0 |\n|  2.10105358 |  2.10105528 |  2.10214450 |  1.4990834 |  0.44681358 |  1.404385422 | C |  1.08719968 |  0.20951681 | -0.18521846 | ⋯ | 0 | 0 | 0 | 1 | 0 | 1 | 0 | 0 | 0 | 0 |\n| -0.55371543 | -0.55371311 | -0.55327523 |  1.4990834 |  2.01377234 | -0.613660531 | F | -0.79106661 |  0.16970520 |  0.50595351 | ⋯ | 0 | 0 | 0 | 1 | 0 | 1 | 0 | 0 | 0 | 0 |\n| -0.38644340 | -0.38644112 | -0.38596220 | -0.6670735 |  0.15610150 | -0.182874485 | C | -0.52274285 | -0.33398641 | -0.75578882 | ⋯ | 0 | 0 | 0 | 1 | 0 | 0 | 0 | 0 | 1 | 0 |\n|  0.48229199 |  0.48229407 |  0.48298613 | -0.6670735 | -0.72428191 |  0.685648783 | B |  1.08719968 |  0.71011189 | -0.38400318 | ⋯ | 0 | 0 | 0 | 0 | 0 | 1 | 0 | 0 | 0 | 0 |\n|  0.48229199 |  0.48229407 |  0.48298613 | -0.6670735 | -0.86448349 |  0.662029734 | B |  1.08719968 |  0.03073286 | -0.13947302 | ⋯ | 0 | 0 | 0 | 1 | 0 | 1 | 0 | 0 | 0 | 0 |\n| -0.59688241 | -0.59688008 | -0.59645279 | -0.6670735 | -1.27684105 | -0.551847387 | A |  0.01390466 |  0.03073286 | -0.51708081 | ⋯ | 0 | 0 | 0 | 1 | 0 | 0 | 0 | 0 | 1 | 0 |\n| -0.81271729 | -0.81271491 | -0.81234057 | -0.6670735 | -0.24800892 | -0.711462829 | B |  1.08719968 | -0.27677555 |  1.29027983 | ⋯ | 0 | 0 | 0 | 1 | 0 | 1 | 0 | 0 | 0 | 0 |\n|  0.74129384 |  0.74129586 |  0.74205147 |  1.4990834 |  0.04064138 |  0.202504686 | C |  0.01390466 |  0.10224644 |  0.30716879 | ⋯ | 0 | 0 | 0 | 1 | 0 | 1 | 0 | 0 | 0 | 0 |\n|  0.05062223 |  0.05062441 |  0.05121056 |  1.4990834 |  0.04064138 | -0.340247613 | C | -1.32771412 | -0.07653752 |  0.59162224 | ⋯ | 0 | 0 | 0 | 1 | 0 | 1 | 0 | 0 | 0 | 0 |\n|  0.26645711 |  0.26645924 |  0.26709834 |  1.4990834 |  1.40142136 |  0.065723483 | E |  0.28222841 |  0.49557114 | -0.82315938 | ⋯ | 0 | 0 | 0 | 1 | 0 | 0 | 0 | 0 | 1 | 0 |\n|  1.34563150 |  1.34563338 |  1.34653726 | -0.6670735 | -1.27684105 |  1.509587359 | A |  1.08719968 |  0.08079236 |  0.19238933 | ⋯ | 0 | 0 | 0 | 1 | 0 | 1 | 0 | 0 | 0 | 0 |\n| -0.64004938 | -0.64004704 | -0.63963034 | -0.6670735 | -1.07066227 | -0.581259082 | A |  0.55055217 | -0.14805110 |  0.26225509 | ⋯ | 0 | 0 | 0 | 1 | 0 | 1 | 0 | 0 | 0 | 0 |\n|  1.02187918 |  1.02188114 |  1.02270559 | -0.6670735 | -1.07066227 |  1.208743456 | A |  1.08719968 |  0.20236545 |  0.56001630 | ⋯ | 0 | 0 | 0 | 1 | 0 | 1 | 0 | 0 | 0 | 0 |\n|  0.26645711 |  0.26645924 |  0.26709834 |  1.4990834 | -0.14285774 | -0.201074607 | C |  1.08719968 |  0.22381953 | -0.88221258 | ⋯ | 0 | 0 | 0 | 1 | 0 | 1 | 0 | 0 | 0 | 0 |\n|  0.80604430 |  0.80604631 |  0.80681780 |  1.4990834 | -0.86448349 |  0.065985086 | B | -0.25441910 | -0.11944567 | -0.08374676 | ⋯ | 0 | 0 | 0 | 1 | 0 | 0 | 0 | 0 | 1 | 0 |\n|  1.55067464 |  1.55067647 |  1.55163066 |  1.4990834 |  0.04064138 |  0.838537281 | C |  1.08719968 | -0.11229431 |  0.20652883 | ⋯ | 0 | 0 | 0 | 1 | 0 | 1 | 0 | 0 | 0 | 0 |\n|  0.05062223 |  0.05062441 |  0.05121056 |  1.4990834 |  0.44681358 | -0.279256650 | C |  1.08719968 | -0.23386740 |  1.15553872 | ⋯ | 0 | 0 | 0 | 1 | 0 | 1 | 0 | 0 | 0 | 0 |\n|  1.34563150 |  1.34563338 |  1.34653726 | -0.6670735 |  0.15610150 |  1.850905044 | C | -1.05939036 |  0.31678719 | -0.98118907 | ⋯ | 0 | 0 | 0 | 1 | 0 | 0 | 0 | 1 | 0 | 0 |\n| -1.13646960 | -1.13646715 | -1.13617225 | -0.6670735 |  0.15610150 | -1.063506253 | C | -1.05939036 | -0.01217529 | -0.54785502 | ⋯ | 0 | 0 | 0 | 1 | 0 | 0 | 0 | 0 | 1 | 0 |\n| -1.02855216 | -1.02854974 | -1.02822835 | -0.6670735 | -1.07066227 | -0.999712397 | A |  1.08719968 |  0.13800323 | -0.49961437 | ⋯ | 0 | 0 | 0 | 1 | 0 | 1 | 0 | 0 | 0 | 0 |\n| -1.22010562 | -1.22010315 | -1.21982876 | -0.6670735 |  0.44681358 | -1.150881787 | C | -0.25441910 | -0.32683506 | -0.33825774 | ⋯ | 0 | 0 | 0 | 1 | 0 | 0 | 0 | 0 | 1 | 0 |\n|  0.48229199 |  0.48229407 |  0.48298613 | -0.6670735 | -1.51807023 |  0.553800673 | A |  0.81887592 | -0.11229431 | -0.03800133 | ⋯ | 0 | 0 | 0 | 1 | 0 | 0 | 0 | 1 | 0 | 0 |\n|  0.05062223 |  0.05062441 |  0.05121056 |  1.4990834 |  1.09009139 | -0.179660501 | D | -1.59603787 |  0.20236545 |  0.33794300 | ⋯ | 0 | 0 | 0 | 1 | 0 | 1 | 0 | 0 | 0 | 0 |\n|  0.22329013 |  0.22329227 |  0.22392079 | -0.6670735 | -1.51807023 |  0.283713854 | A | -1.59603787 |  0.05218693 |  0.60742521 | ⋯ | 0 | 0 | 0 | 1 | 0 | 1 | 0 | 0 | 0 | 0 |\n| -0.05729521 | -0.05729301 | -0.05673333 | -0.6670735 | -1.51807023 | -0.008908228 | A |  1.08719968 | -0.26247283 | -0.32827692 | ⋯ | 0 | 0 | 0 | 1 | 0 | 1 | 0 | 0 | 0 | 0 |\n|  0.05062223 |  0.05062441 |  0.05121056 | -0.6670735 |  0.04064138 |  0.314171964 | C |  1.08719968 | -0.11229431 | -0.02718877 | ⋯ | 0 | 0 | 0 | 1 | 0 | 1 | 0 | 0 | 0 | 0 |\n| -0.38104753 | -0.38104525 | -0.38056500 | -0.6670735 | -0.39233407 | -0.233550800 | B | -1.32771412 |  0.12370051 |  0.39533273 | ⋯ | 0 | 0 | 0 | 1 | 0 | 0 | 0 | 0 | 1 | 0 |\n|  1.02187918 |  1.02188114 |  1.02270559 |  1.4990834 |  0.26949983 |  0.476366068 | C |  0.81887592 | -0.01217529 |  1.26782297 | ⋯ | 0 | 0 | 0 | 1 | 0 | 1 | 0 | 0 | 0 | 0 |\n| ⋮ | ⋮ | ⋮ | ⋮ | ⋮ | ⋮ | ⋮ | ⋮ | ⋮ | ⋮ | ⋱ | ⋮ | ⋮ | ⋮ | ⋮ | ⋮ | ⋮ | ⋮ | ⋮ | ⋮ | ⋮ |\n| -1.13646960 | -1.13646715 | -1.13617225 | -0.6670735 | -0.14285774 | -1.0765491 | C | -1.59603787 | -0.491316295 |  1.06571132 | ⋯ | 0 | 0 | 0 | 1 | 0 | 0 | 0 | 0 | 1 | 0 |\n|  0.91396174 |  0.91396372 |  0.91476169 |  1.4990834 |  1.91480653 |  0.7785927 | E | -0.79106661 | -0.112294308 | -0.24926207 | ⋯ | 0 | 0 | 0 | 1 | 0 | 0 | 0 | 0 | 1 | 0 |\n| -0.70479985 | -0.70479749 | -0.70439668 | -0.6670735 |  0.20352262 | -0.5529312 | C |  0.01390466 | -0.376894563 |  2.02886070 | ⋯ | 0 | 0 | 0 | 1 | 0 | 0 | 0 | 1 | 0 | 0 |\n|  1.02187918 |  1.02188114 |  1.02270559 |  1.4990834 | -0.60469822 |  0.2765384 | B |  1.08719968 | -0.005023935 | -0.38733012 | ⋯ | 0 | 0 | 0 | 1 | 0 | 1 | 0 | 0 | 0 | 0 |\n| -0.38104753 | -0.38104525 | -0.38056500 | -0.6670735 | -0.98819076 | -0.2940559 | A | -0.52274285 |  0.209516812 | -0.49628743 | ⋯ | 0 | 0 | 0 | 1 | 0 | 1 | 0 | 0 | 0 | 0 |\n| -0.92063473 | -0.92063232 | -0.92028446 | -0.6670735 |  0.06332104 | -0.8157678 | C |  0.28222841 | -0.112294308 | -0.36820021 | ⋯ | 0 | 0 | 0 | 1 | 0 | 1 | 0 | 0 | 0 | 0 |\n| -0.38104753 | -0.38104525 | -0.38056500 |  1.4990834 |  1.66326841 | -0.4901464 | E | -0.79106661 | -0.262472831 |  1.46577596 | ⋯ | 0 | 0 | 0 | 1 | 0 | 0 | 0 | 0 | 1 | 0 |\n|  2.10105358 |  2.10105528 |  2.10214450 |  1.4990834 |  2.72096558 |  2.2098996 | F | -0.79106661 |  0.145154588 |  0.56417498 | ⋯ | 0 | 0 | 0 | 1 | 0 | 0 | 0 | 0 | 1 | 0 |\n| -0.97459345 | -0.97459103 | -0.97425641 | -0.6670735 | -0.14285774 | -0.8903622 | C | -0.79106661 | -0.162353816 | -0.24260819 | ⋯ | 0 | 0 | 0 | 1 | 0 | 1 | 0 | 0 | 0 | 0 |\n| -0.59688241 | -0.59688008 | -0.59645279 | -0.6670735 |  0.06332104 | -0.4380499 | C | -1.32771412 | -0.112294308 | -0.17606937 | ⋯ | 0 | 0 | 0 | 1 | 0 | 0 | 0 | 1 | 0 | 0 |\n| -1.13646960 | -1.13646715 | -1.13617225 | -0.6670735 |  0.20352262 | -1.0614508 | C |  1.08719968 |  0.059338289 |  0.23397609 | ⋯ | 0 | 0 | 0 | 1 | 0 | 1 | 0 | 0 | 0 | 0 |\n| -0.48896497 | -0.48896266 | -0.48850890 | -0.6670735 | -0.14285774 | -0.3318763 | C | -0.25441910 | -0.105142950 | -1.06852127 | ⋯ | 0 | 0 | 0 | 1 | 0 | 0 | 0 | 0 | 1 | 0 |\n| -0.89905124 | -0.89904884 | -0.89869568 | -0.6670735 | -0.25007071 | -0.8101621 | B | -1.59603787 | -0.005023935 | -0.21017052 | ⋯ | 0 | 0 | 0 | 1 | 0 | 0 | 0 | 0 | 1 | 0 |\n|  2.10105358 |  2.10105528 |  2.10214450 |  1.4990834 | -0.60469822 |  1.0659827 | B |  1.08719968 |  0.852752880 | -0.17773284 | ⋯ | 0 | 0 | 0 | 1 | 0 | 1 | 0 | 0 | 0 | 0 |\n| -1.02855216 | -1.02854974 | -1.02822835 | -0.6670735 | -1.27684105 | -1.0099523 | A |  1.08719968 |  0.066489648 | -0.74248106 | ⋯ | 0 | 0 | 0 | 1 | 0 | 1 | 0 | 0 | 0 | 0 |\n|  0.91396174 |  0.91396372 |  0.91476169 |  1.4990834 |  0.06332104 |  0.3432473 | C | -1.05939036 |  0.066489648 | -0.76660138 | ⋯ | 0 | 0 | 0 | 1 | 0 | 0 | 0 | 0 | 1 | 0 |\n|  1.56146638 |  1.56146821 |  1.56242504 |  1.4990834 |  2.15397392 |  1.4718791 | F | -0.25441910 |  0.710111889 |  1.36679947 | ⋯ | 0 | 0 | 0 | 1 | 0 | 1 | 0 | 0 | 0 | 0 |\n| -0.59688241 | -0.59688008 | -0.59645279 | -0.6670735 | -0.25007071 | -0.4652567 | B |  1.08719968 |  0.495571142 |  0.07677814 | ⋯ | 0 | 0 | 0 | 1 | 0 | 1 | 0 | 0 | 0 | 0 |\n|  1.56146638 |  1.56146821 |  1.56242504 |  1.4990834 |  0.54165582 |  0.9883987 | C | -1.05939036 |  0.138003230 |  0.51177566 | ⋯ | 0 | 0 | 0 | 1 | 0 | 1 | 0 | 0 | 0 | 0 |\n| -0.38104753 | -0.38104525 | -0.38056500 | -0.6670735 |  0.20352262 | -0.1715134 | C |  1.08719968 |  0.424057559 | -0.66346621 | ⋯ | 0 | 0 | 0 | 1 | 0 | 1 | 0 | 0 | 0 | 0 |\n| -0.59688241 | -0.59688008 | -0.59645279 | -0.6670735 |  0.36640386 | -0.4114411 | C |  1.08719968 |  0.009278782 | -0.26922372 | ⋯ | 0 | 0 | 0 | 1 | 0 | 1 | 0 | 0 | 0 | 0 |\n| -0.59688241 | -0.59688008 | -0.59645279 | -0.6670735 | -1.51807023 | -0.5716545 | A |  1.08719968 |  0.023581498 | -0.71919247 | ⋯ | 0 | 0 | 0 | 1 | 0 | 0 | 0 | 1 | 0 | 0 |\n| -0.26233835 | -0.26233609 | -0.26182672 | -0.6670735 | -0.60469822 | -0.1231168 | B | -1.59603787 | -0.183807891 |  0.28138500 | ⋯ | 0 | 0 | 0 | 1 | 0 | 0 | 0 | 0 | 1 | 0 |\n|  0.26645711 |  0.26645924 |  0.26709834 | -0.6670735 |  0.20352262 |  0.5912473 | C |  0.01390466 |  0.281030395 | -0.11036229 | ⋯ | 0 | 0 | 0 | 1 | 0 | 1 | 0 | 0 | 0 | 0 |\n| -0.05729521 | -0.05729301 | -0.05673333 |  1.4990834 |  1.66326841 | -0.1884055 | E |  1.08719968 | -0.212413324 |  2.33743447 | ⋯ | 0 | 0 | 0 | 1 | 0 | 1 | 0 | 0 | 0 | 0 |\n| -0.38104753 | -0.38104525 | -0.38056500 |  1.4990834 |  0.06332104 | -0.6769312 | C |  1.08719968 | -0.283926906 |  0.52425169 | ⋯ | 0 | 0 | 0 | 1 | 0 | 0 | 0 | 1 | 0 | 0 |\n| -0.12204567 | -0.12204346 | -0.12149966 | -0.6670735 |  0.74371103 |  0.2026168 | D |  1.08719968 | -0.255321473 |  1.20377936 | ⋯ | 0 | 0 | 0 | 1 | 0 | 0 | 0 | 0 | 1 | 0 |\n| -0.59688241 | -0.59688008 | -0.59645279 | -0.6670735 | -0.25007071 | -0.4652567 | B |  1.08719968 |  0.388300768 |  0.59245397 | ⋯ | 0 | 0 | 0 | 1 | 0 | 1 | 0 | 0 | 0 | 0 |\n|  0.05062223 |  0.05062441 |  0.05121056 | -0.6670735 | -0.39851943 |  0.2534426 | B | -1.59603787 | -0.076537517 |  0.19821148 | ⋯ | 0 | 0 | 0 | 1 | 0 | 1 | 0 | 0 | 0 | 0 |\n| -1.56813936 | -1.56813681 | -1.56794781 | -0.6670735 | -1.27684105 | -1.5825648 | A |  1.08719968 | -0.112294308 | -0.91132331 | ⋯ | 0 | 0 | 0 | 1 | 0 | 1 | 0 | 0 | 0 | 0 |\n\n",
            "text/latex": "A data.frame: 886812 × 112\n\\begin{tabular}{lllllllllllllllllllll}\n loan\\_amnt & funded\\_amnt & funded\\_amnt\\_inv & term & int\\_rate & installment & grade & emp\\_length & annual\\_inc & dti & ⋯ & sub\\_grade\\_G4 & sub\\_grade\\_G5 & hardship\\_flag\\_Y & initial\\_list\\_status\\_w & application\\_type\\_Joint App & home\\_ownership\\_MORTGAGE & home\\_ownership\\_NONE & home\\_ownership\\_OWN & home\\_ownership\\_RENT & pymnt\\_plan\\_y\\\\\n <dbl> & <dbl> & <dbl> & <dbl> & <dbl> & <dbl> & <fct> & <dbl> & <dbl> & <dbl> & ⋯ & <int> & <int> & <int> & <int> & <int> & <int> & <int> & <int> & <int> & <int>\\\\\n\\hline\n\t -1.28755402 & -1.28755153 & -1.28729369 & -0.6670735 &  0.26949983 & -1.237323023 & C &  1.08719968 & -0.18380789 & -1.11260323 & ⋯ & 0 & 0 & 0 & 1 & 0 & 1 & 0 & 0 & 0 & 0\\\\\n\t  0.98950395 &  0.98950591 &  0.99032242 & -0.6670735 & -0.14285774 &  1.368433642 & C &  1.08719968 & -0.11229431 & -0.26839198 & ⋯ & 0 & 0 & 0 & 1 & 0 & 1 & 0 & 0 & 0 & 0\\\\\n\t  2.10105358 &  2.10105528 &  2.10214450 &  1.4990834 &  0.44681358 &  1.404385422 & C &  1.08719968 &  0.20951681 & -0.18521846 & ⋯ & 0 & 0 & 0 & 1 & 0 & 1 & 0 & 0 & 0 & 0\\\\\n\t -0.55371543 & -0.55371311 & -0.55327523 &  1.4990834 &  2.01377234 & -0.613660531 & F & -0.79106661 &  0.16970520 &  0.50595351 & ⋯ & 0 & 0 & 0 & 1 & 0 & 1 & 0 & 0 & 0 & 0\\\\\n\t -0.38644340 & -0.38644112 & -0.38596220 & -0.6670735 &  0.15610150 & -0.182874485 & C & -0.52274285 & -0.33398641 & -0.75578882 & ⋯ & 0 & 0 & 0 & 1 & 0 & 0 & 0 & 0 & 1 & 0\\\\\n\t  0.48229199 &  0.48229407 &  0.48298613 & -0.6670735 & -0.72428191 &  0.685648783 & B &  1.08719968 &  0.71011189 & -0.38400318 & ⋯ & 0 & 0 & 0 & 0 & 0 & 1 & 0 & 0 & 0 & 0\\\\\n\t  0.48229199 &  0.48229407 &  0.48298613 & -0.6670735 & -0.86448349 &  0.662029734 & B &  1.08719968 &  0.03073286 & -0.13947302 & ⋯ & 0 & 0 & 0 & 1 & 0 & 1 & 0 & 0 & 0 & 0\\\\\n\t -0.59688241 & -0.59688008 & -0.59645279 & -0.6670735 & -1.27684105 & -0.551847387 & A &  0.01390466 &  0.03073286 & -0.51708081 & ⋯ & 0 & 0 & 0 & 1 & 0 & 0 & 0 & 0 & 1 & 0\\\\\n\t -0.81271729 & -0.81271491 & -0.81234057 & -0.6670735 & -0.24800892 & -0.711462829 & B &  1.08719968 & -0.27677555 &  1.29027983 & ⋯ & 0 & 0 & 0 & 1 & 0 & 1 & 0 & 0 & 0 & 0\\\\\n\t  0.74129384 &  0.74129586 &  0.74205147 &  1.4990834 &  0.04064138 &  0.202504686 & C &  0.01390466 &  0.10224644 &  0.30716879 & ⋯ & 0 & 0 & 0 & 1 & 0 & 1 & 0 & 0 & 0 & 0\\\\\n\t  0.05062223 &  0.05062441 &  0.05121056 &  1.4990834 &  0.04064138 & -0.340247613 & C & -1.32771412 & -0.07653752 &  0.59162224 & ⋯ & 0 & 0 & 0 & 1 & 0 & 1 & 0 & 0 & 0 & 0\\\\\n\t  0.26645711 &  0.26645924 &  0.26709834 &  1.4990834 &  1.40142136 &  0.065723483 & E &  0.28222841 &  0.49557114 & -0.82315938 & ⋯ & 0 & 0 & 0 & 1 & 0 & 0 & 0 & 0 & 1 & 0\\\\\n\t  1.34563150 &  1.34563338 &  1.34653726 & -0.6670735 & -1.27684105 &  1.509587359 & A &  1.08719968 &  0.08079236 &  0.19238933 & ⋯ & 0 & 0 & 0 & 1 & 0 & 1 & 0 & 0 & 0 & 0\\\\\n\t -0.64004938 & -0.64004704 & -0.63963034 & -0.6670735 & -1.07066227 & -0.581259082 & A &  0.55055217 & -0.14805110 &  0.26225509 & ⋯ & 0 & 0 & 0 & 1 & 0 & 1 & 0 & 0 & 0 & 0\\\\\n\t  1.02187918 &  1.02188114 &  1.02270559 & -0.6670735 & -1.07066227 &  1.208743456 & A &  1.08719968 &  0.20236545 &  0.56001630 & ⋯ & 0 & 0 & 0 & 1 & 0 & 1 & 0 & 0 & 0 & 0\\\\\n\t  0.26645711 &  0.26645924 &  0.26709834 &  1.4990834 & -0.14285774 & -0.201074607 & C &  1.08719968 &  0.22381953 & -0.88221258 & ⋯ & 0 & 0 & 0 & 1 & 0 & 1 & 0 & 0 & 0 & 0\\\\\n\t  0.80604430 &  0.80604631 &  0.80681780 &  1.4990834 & -0.86448349 &  0.065985086 & B & -0.25441910 & -0.11944567 & -0.08374676 & ⋯ & 0 & 0 & 0 & 1 & 0 & 0 & 0 & 0 & 1 & 0\\\\\n\t  1.55067464 &  1.55067647 &  1.55163066 &  1.4990834 &  0.04064138 &  0.838537281 & C &  1.08719968 & -0.11229431 &  0.20652883 & ⋯ & 0 & 0 & 0 & 1 & 0 & 1 & 0 & 0 & 0 & 0\\\\\n\t  0.05062223 &  0.05062441 &  0.05121056 &  1.4990834 &  0.44681358 & -0.279256650 & C &  1.08719968 & -0.23386740 &  1.15553872 & ⋯ & 0 & 0 & 0 & 1 & 0 & 1 & 0 & 0 & 0 & 0\\\\\n\t  1.34563150 &  1.34563338 &  1.34653726 & -0.6670735 &  0.15610150 &  1.850905044 & C & -1.05939036 &  0.31678719 & -0.98118907 & ⋯ & 0 & 0 & 0 & 1 & 0 & 0 & 0 & 1 & 0 & 0\\\\\n\t -1.13646960 & -1.13646715 & -1.13617225 & -0.6670735 &  0.15610150 & -1.063506253 & C & -1.05939036 & -0.01217529 & -0.54785502 & ⋯ & 0 & 0 & 0 & 1 & 0 & 0 & 0 & 0 & 1 & 0\\\\\n\t -1.02855216 & -1.02854974 & -1.02822835 & -0.6670735 & -1.07066227 & -0.999712397 & A &  1.08719968 &  0.13800323 & -0.49961437 & ⋯ & 0 & 0 & 0 & 1 & 0 & 1 & 0 & 0 & 0 & 0\\\\\n\t -1.22010562 & -1.22010315 & -1.21982876 & -0.6670735 &  0.44681358 & -1.150881787 & C & -0.25441910 & -0.32683506 & -0.33825774 & ⋯ & 0 & 0 & 0 & 1 & 0 & 0 & 0 & 0 & 1 & 0\\\\\n\t  0.48229199 &  0.48229407 &  0.48298613 & -0.6670735 & -1.51807023 &  0.553800673 & A &  0.81887592 & -0.11229431 & -0.03800133 & ⋯ & 0 & 0 & 0 & 1 & 0 & 0 & 0 & 1 & 0 & 0\\\\\n\t  0.05062223 &  0.05062441 &  0.05121056 &  1.4990834 &  1.09009139 & -0.179660501 & D & -1.59603787 &  0.20236545 &  0.33794300 & ⋯ & 0 & 0 & 0 & 1 & 0 & 1 & 0 & 0 & 0 & 0\\\\\n\t  0.22329013 &  0.22329227 &  0.22392079 & -0.6670735 & -1.51807023 &  0.283713854 & A & -1.59603787 &  0.05218693 &  0.60742521 & ⋯ & 0 & 0 & 0 & 1 & 0 & 1 & 0 & 0 & 0 & 0\\\\\n\t -0.05729521 & -0.05729301 & -0.05673333 & -0.6670735 & -1.51807023 & -0.008908228 & A &  1.08719968 & -0.26247283 & -0.32827692 & ⋯ & 0 & 0 & 0 & 1 & 0 & 1 & 0 & 0 & 0 & 0\\\\\n\t  0.05062223 &  0.05062441 &  0.05121056 & -0.6670735 &  0.04064138 &  0.314171964 & C &  1.08719968 & -0.11229431 & -0.02718877 & ⋯ & 0 & 0 & 0 & 1 & 0 & 1 & 0 & 0 & 0 & 0\\\\\n\t -0.38104753 & -0.38104525 & -0.38056500 & -0.6670735 & -0.39233407 & -0.233550800 & B & -1.32771412 &  0.12370051 &  0.39533273 & ⋯ & 0 & 0 & 0 & 1 & 0 & 0 & 0 & 0 & 1 & 0\\\\\n\t  1.02187918 &  1.02188114 &  1.02270559 &  1.4990834 &  0.26949983 &  0.476366068 & C &  0.81887592 & -0.01217529 &  1.26782297 & ⋯ & 0 & 0 & 0 & 1 & 0 & 1 & 0 & 0 & 0 & 0\\\\\n\t ⋮ & ⋮ & ⋮ & ⋮ & ⋮ & ⋮ & ⋮ & ⋮ & ⋮ & ⋮ & ⋱ & ⋮ & ⋮ & ⋮ & ⋮ & ⋮ & ⋮ & ⋮ & ⋮ & ⋮ & ⋮\\\\\n\t -1.13646960 & -1.13646715 & -1.13617225 & -0.6670735 & -0.14285774 & -1.0765491 & C & -1.59603787 & -0.491316295 &  1.06571132 & ⋯ & 0 & 0 & 0 & 1 & 0 & 0 & 0 & 0 & 1 & 0\\\\\n\t  0.91396174 &  0.91396372 &  0.91476169 &  1.4990834 &  1.91480653 &  0.7785927 & E & -0.79106661 & -0.112294308 & -0.24926207 & ⋯ & 0 & 0 & 0 & 1 & 0 & 0 & 0 & 0 & 1 & 0\\\\\n\t -0.70479985 & -0.70479749 & -0.70439668 & -0.6670735 &  0.20352262 & -0.5529312 & C &  0.01390466 & -0.376894563 &  2.02886070 & ⋯ & 0 & 0 & 0 & 1 & 0 & 0 & 0 & 1 & 0 & 0\\\\\n\t  1.02187918 &  1.02188114 &  1.02270559 &  1.4990834 & -0.60469822 &  0.2765384 & B &  1.08719968 & -0.005023935 & -0.38733012 & ⋯ & 0 & 0 & 0 & 1 & 0 & 1 & 0 & 0 & 0 & 0\\\\\n\t -0.38104753 & -0.38104525 & -0.38056500 & -0.6670735 & -0.98819076 & -0.2940559 & A & -0.52274285 &  0.209516812 & -0.49628743 & ⋯ & 0 & 0 & 0 & 1 & 0 & 1 & 0 & 0 & 0 & 0\\\\\n\t -0.92063473 & -0.92063232 & -0.92028446 & -0.6670735 &  0.06332104 & -0.8157678 & C &  0.28222841 & -0.112294308 & -0.36820021 & ⋯ & 0 & 0 & 0 & 1 & 0 & 1 & 0 & 0 & 0 & 0\\\\\n\t -0.38104753 & -0.38104525 & -0.38056500 &  1.4990834 &  1.66326841 & -0.4901464 & E & -0.79106661 & -0.262472831 &  1.46577596 & ⋯ & 0 & 0 & 0 & 1 & 0 & 0 & 0 & 0 & 1 & 0\\\\\n\t  2.10105358 &  2.10105528 &  2.10214450 &  1.4990834 &  2.72096558 &  2.2098996 & F & -0.79106661 &  0.145154588 &  0.56417498 & ⋯ & 0 & 0 & 0 & 1 & 0 & 0 & 0 & 0 & 1 & 0\\\\\n\t -0.97459345 & -0.97459103 & -0.97425641 & -0.6670735 & -0.14285774 & -0.8903622 & C & -0.79106661 & -0.162353816 & -0.24260819 & ⋯ & 0 & 0 & 0 & 1 & 0 & 1 & 0 & 0 & 0 & 0\\\\\n\t -0.59688241 & -0.59688008 & -0.59645279 & -0.6670735 &  0.06332104 & -0.4380499 & C & -1.32771412 & -0.112294308 & -0.17606937 & ⋯ & 0 & 0 & 0 & 1 & 0 & 0 & 0 & 1 & 0 & 0\\\\\n\t -1.13646960 & -1.13646715 & -1.13617225 & -0.6670735 &  0.20352262 & -1.0614508 & C &  1.08719968 &  0.059338289 &  0.23397609 & ⋯ & 0 & 0 & 0 & 1 & 0 & 1 & 0 & 0 & 0 & 0\\\\\n\t -0.48896497 & -0.48896266 & -0.48850890 & -0.6670735 & -0.14285774 & -0.3318763 & C & -0.25441910 & -0.105142950 & -1.06852127 & ⋯ & 0 & 0 & 0 & 1 & 0 & 0 & 0 & 0 & 1 & 0\\\\\n\t -0.89905124 & -0.89904884 & -0.89869568 & -0.6670735 & -0.25007071 & -0.8101621 & B & -1.59603787 & -0.005023935 & -0.21017052 & ⋯ & 0 & 0 & 0 & 1 & 0 & 0 & 0 & 0 & 1 & 0\\\\\n\t  2.10105358 &  2.10105528 &  2.10214450 &  1.4990834 & -0.60469822 &  1.0659827 & B &  1.08719968 &  0.852752880 & -0.17773284 & ⋯ & 0 & 0 & 0 & 1 & 0 & 1 & 0 & 0 & 0 & 0\\\\\n\t -1.02855216 & -1.02854974 & -1.02822835 & -0.6670735 & -1.27684105 & -1.0099523 & A &  1.08719968 &  0.066489648 & -0.74248106 & ⋯ & 0 & 0 & 0 & 1 & 0 & 1 & 0 & 0 & 0 & 0\\\\\n\t  0.91396174 &  0.91396372 &  0.91476169 &  1.4990834 &  0.06332104 &  0.3432473 & C & -1.05939036 &  0.066489648 & -0.76660138 & ⋯ & 0 & 0 & 0 & 1 & 0 & 0 & 0 & 0 & 1 & 0\\\\\n\t  1.56146638 &  1.56146821 &  1.56242504 &  1.4990834 &  2.15397392 &  1.4718791 & F & -0.25441910 &  0.710111889 &  1.36679947 & ⋯ & 0 & 0 & 0 & 1 & 0 & 1 & 0 & 0 & 0 & 0\\\\\n\t -0.59688241 & -0.59688008 & -0.59645279 & -0.6670735 & -0.25007071 & -0.4652567 & B &  1.08719968 &  0.495571142 &  0.07677814 & ⋯ & 0 & 0 & 0 & 1 & 0 & 1 & 0 & 0 & 0 & 0\\\\\n\t  1.56146638 &  1.56146821 &  1.56242504 &  1.4990834 &  0.54165582 &  0.9883987 & C & -1.05939036 &  0.138003230 &  0.51177566 & ⋯ & 0 & 0 & 0 & 1 & 0 & 1 & 0 & 0 & 0 & 0\\\\\n\t -0.38104753 & -0.38104525 & -0.38056500 & -0.6670735 &  0.20352262 & -0.1715134 & C &  1.08719968 &  0.424057559 & -0.66346621 & ⋯ & 0 & 0 & 0 & 1 & 0 & 1 & 0 & 0 & 0 & 0\\\\\n\t -0.59688241 & -0.59688008 & -0.59645279 & -0.6670735 &  0.36640386 & -0.4114411 & C &  1.08719968 &  0.009278782 & -0.26922372 & ⋯ & 0 & 0 & 0 & 1 & 0 & 1 & 0 & 0 & 0 & 0\\\\\n\t -0.59688241 & -0.59688008 & -0.59645279 & -0.6670735 & -1.51807023 & -0.5716545 & A &  1.08719968 &  0.023581498 & -0.71919247 & ⋯ & 0 & 0 & 0 & 1 & 0 & 0 & 0 & 1 & 0 & 0\\\\\n\t -0.26233835 & -0.26233609 & -0.26182672 & -0.6670735 & -0.60469822 & -0.1231168 & B & -1.59603787 & -0.183807891 &  0.28138500 & ⋯ & 0 & 0 & 0 & 1 & 0 & 0 & 0 & 0 & 1 & 0\\\\\n\t  0.26645711 &  0.26645924 &  0.26709834 & -0.6670735 &  0.20352262 &  0.5912473 & C &  0.01390466 &  0.281030395 & -0.11036229 & ⋯ & 0 & 0 & 0 & 1 & 0 & 1 & 0 & 0 & 0 & 0\\\\\n\t -0.05729521 & -0.05729301 & -0.05673333 &  1.4990834 &  1.66326841 & -0.1884055 & E &  1.08719968 & -0.212413324 &  2.33743447 & ⋯ & 0 & 0 & 0 & 1 & 0 & 1 & 0 & 0 & 0 & 0\\\\\n\t -0.38104753 & -0.38104525 & -0.38056500 &  1.4990834 &  0.06332104 & -0.6769312 & C &  1.08719968 & -0.283926906 &  0.52425169 & ⋯ & 0 & 0 & 0 & 1 & 0 & 0 & 0 & 1 & 0 & 0\\\\\n\t -0.12204567 & -0.12204346 & -0.12149966 & -0.6670735 &  0.74371103 &  0.2026168 & D &  1.08719968 & -0.255321473 &  1.20377936 & ⋯ & 0 & 0 & 0 & 1 & 0 & 0 & 0 & 0 & 1 & 0\\\\\n\t -0.59688241 & -0.59688008 & -0.59645279 & -0.6670735 & -0.25007071 & -0.4652567 & B &  1.08719968 &  0.388300768 &  0.59245397 & ⋯ & 0 & 0 & 0 & 1 & 0 & 1 & 0 & 0 & 0 & 0\\\\\n\t  0.05062223 &  0.05062441 &  0.05121056 & -0.6670735 & -0.39851943 &  0.2534426 & B & -1.59603787 & -0.076537517 &  0.19821148 & ⋯ & 0 & 0 & 0 & 1 & 0 & 1 & 0 & 0 & 0 & 0\\\\\n\t -1.56813936 & -1.56813681 & -1.56794781 & -0.6670735 & -1.27684105 & -1.5825648 & A &  1.08719968 & -0.112294308 & -0.91132331 & ⋯ & 0 & 0 & 0 & 1 & 0 & 1 & 0 & 0 & 0 & 0\\\\\n\\end{tabular}\n",
            "text/plain": [
              "       loan_amnt   funded_amnt funded_amnt_inv term       int_rate   \n",
              "1      -1.28755402 -1.28755153 -1.28729369     -0.6670735  0.26949983\n",
              "2       0.98950395  0.98950591  0.99032242     -0.6670735 -0.14285774\n",
              "3       2.10105358  2.10105528  2.10214450      1.4990834  0.44681358\n",
              "4      -0.55371543 -0.55371311 -0.55327523      1.4990834  2.01377234\n",
              "5      -0.38644340 -0.38644112 -0.38596220     -0.6670735  0.15610150\n",
              "6       0.48229199  0.48229407  0.48298613     -0.6670735 -0.72428191\n",
              "7       0.48229199  0.48229407  0.48298613     -0.6670735 -0.86448349\n",
              "8      -0.59688241 -0.59688008 -0.59645279     -0.6670735 -1.27684105\n",
              "9      -0.81271729 -0.81271491 -0.81234057     -0.6670735 -0.24800892\n",
              "10      0.74129384  0.74129586  0.74205147      1.4990834  0.04064138\n",
              "11      0.05062223  0.05062441  0.05121056      1.4990834  0.04064138\n",
              "12      0.26645711  0.26645924  0.26709834      1.4990834  1.40142136\n",
              "13      1.34563150  1.34563338  1.34653726     -0.6670735 -1.27684105\n",
              "14     -0.64004938 -0.64004704 -0.63963034     -0.6670735 -1.07066227\n",
              "15      1.02187918  1.02188114  1.02270559     -0.6670735 -1.07066227\n",
              "16      0.26645711  0.26645924  0.26709834      1.4990834 -0.14285774\n",
              "17      0.80604430  0.80604631  0.80681780      1.4990834 -0.86448349\n",
              "18      1.55067464  1.55067647  1.55163066      1.4990834  0.04064138\n",
              "19      0.05062223  0.05062441  0.05121056      1.4990834  0.44681358\n",
              "20      1.34563150  1.34563338  1.34653726     -0.6670735  0.15610150\n",
              "21     -1.13646960 -1.13646715 -1.13617225     -0.6670735  0.15610150\n",
              "22     -1.02855216 -1.02854974 -1.02822835     -0.6670735 -1.07066227\n",
              "23     -1.22010562 -1.22010315 -1.21982876     -0.6670735  0.44681358\n",
              "24      0.48229199  0.48229407  0.48298613     -0.6670735 -1.51807023\n",
              "25      0.05062223  0.05062441  0.05121056      1.4990834  1.09009139\n",
              "26      0.22329013  0.22329227  0.22392079     -0.6670735 -1.51807023\n",
              "27     -0.05729521 -0.05729301 -0.05673333     -0.6670735 -1.51807023\n",
              "28      0.05062223  0.05062441  0.05121056     -0.6670735  0.04064138\n",
              "29     -0.38104753 -0.38104525 -0.38056500     -0.6670735 -0.39233407\n",
              "30      1.02187918  1.02188114  1.02270559      1.4990834  0.26949983\n",
              "⋮      ⋮           ⋮           ⋮               ⋮          ⋮          \n",
              "886783 -1.13646960 -1.13646715 -1.13617225     -0.6670735 -0.14285774\n",
              "886784  0.91396174  0.91396372  0.91476169      1.4990834  1.91480653\n",
              "886785 -0.70479985 -0.70479749 -0.70439668     -0.6670735  0.20352262\n",
              "886786  1.02187918  1.02188114  1.02270559      1.4990834 -0.60469822\n",
              "886787 -0.38104753 -0.38104525 -0.38056500     -0.6670735 -0.98819076\n",
              "886788 -0.92063473 -0.92063232 -0.92028446     -0.6670735  0.06332104\n",
              "886789 -0.38104753 -0.38104525 -0.38056500      1.4990834  1.66326841\n",
              "886790  2.10105358  2.10105528  2.10214450      1.4990834  2.72096558\n",
              "886791 -0.97459345 -0.97459103 -0.97425641     -0.6670735 -0.14285774\n",
              "886792 -0.59688241 -0.59688008 -0.59645279     -0.6670735  0.06332104\n",
              "886793 -1.13646960 -1.13646715 -1.13617225     -0.6670735  0.20352262\n",
              "886794 -0.48896497 -0.48896266 -0.48850890     -0.6670735 -0.14285774\n",
              "886795 -0.89905124 -0.89904884 -0.89869568     -0.6670735 -0.25007071\n",
              "886796  2.10105358  2.10105528  2.10214450      1.4990834 -0.60469822\n",
              "886797 -1.02855216 -1.02854974 -1.02822835     -0.6670735 -1.27684105\n",
              "886798  0.91396174  0.91396372  0.91476169      1.4990834  0.06332104\n",
              "886799  1.56146638  1.56146821  1.56242504      1.4990834  2.15397392\n",
              "886800 -0.59688241 -0.59688008 -0.59645279     -0.6670735 -0.25007071\n",
              "886801  1.56146638  1.56146821  1.56242504      1.4990834  0.54165582\n",
              "886802 -0.38104753 -0.38104525 -0.38056500     -0.6670735  0.20352262\n",
              "886803 -0.59688241 -0.59688008 -0.59645279     -0.6670735  0.36640386\n",
              "886804 -0.59688241 -0.59688008 -0.59645279     -0.6670735 -1.51807023\n",
              "886805 -0.26233835 -0.26233609 -0.26182672     -0.6670735 -0.60469822\n",
              "886806  0.26645711  0.26645924  0.26709834     -0.6670735  0.20352262\n",
              "886807 -0.05729521 -0.05729301 -0.05673333      1.4990834  1.66326841\n",
              "886808 -0.38104753 -0.38104525 -0.38056500      1.4990834  0.06332104\n",
              "886809 -0.12204567 -0.12204346 -0.12149966     -0.6670735  0.74371103\n",
              "886810 -0.59688241 -0.59688008 -0.59645279     -0.6670735 -0.25007071\n",
              "886811  0.05062223  0.05062441  0.05121056     -0.6670735 -0.39851943\n",
              "886812 -1.56813936 -1.56813681 -1.56794781     -0.6670735 -1.27684105\n",
              "       installment  grade emp_length  annual_inc   dti         ⋯ sub_grade_G4\n",
              "1      -1.237323023 C      1.08719968 -0.18380789  -1.11260323 ⋯ 0           \n",
              "2       1.368433642 C      1.08719968 -0.11229431  -0.26839198 ⋯ 0           \n",
              "3       1.404385422 C      1.08719968  0.20951681  -0.18521846 ⋯ 0           \n",
              "4      -0.613660531 F     -0.79106661  0.16970520   0.50595351 ⋯ 0           \n",
              "5      -0.182874485 C     -0.52274285 -0.33398641  -0.75578882 ⋯ 0           \n",
              "6       0.685648783 B      1.08719968  0.71011189  -0.38400318 ⋯ 0           \n",
              "7       0.662029734 B      1.08719968  0.03073286  -0.13947302 ⋯ 0           \n",
              "8      -0.551847387 A      0.01390466  0.03073286  -0.51708081 ⋯ 0           \n",
              "9      -0.711462829 B      1.08719968 -0.27677555   1.29027983 ⋯ 0           \n",
              "10      0.202504686 C      0.01390466  0.10224644   0.30716879 ⋯ 0           \n",
              "11     -0.340247613 C     -1.32771412 -0.07653752   0.59162224 ⋯ 0           \n",
              "12      0.065723483 E      0.28222841  0.49557114  -0.82315938 ⋯ 0           \n",
              "13      1.509587359 A      1.08719968  0.08079236   0.19238933 ⋯ 0           \n",
              "14     -0.581259082 A      0.55055217 -0.14805110   0.26225509 ⋯ 0           \n",
              "15      1.208743456 A      1.08719968  0.20236545   0.56001630 ⋯ 0           \n",
              "16     -0.201074607 C      1.08719968  0.22381953  -0.88221258 ⋯ 0           \n",
              "17      0.065985086 B     -0.25441910 -0.11944567  -0.08374676 ⋯ 0           \n",
              "18      0.838537281 C      1.08719968 -0.11229431   0.20652883 ⋯ 0           \n",
              "19     -0.279256650 C      1.08719968 -0.23386740   1.15553872 ⋯ 0           \n",
              "20      1.850905044 C     -1.05939036  0.31678719  -0.98118907 ⋯ 0           \n",
              "21     -1.063506253 C     -1.05939036 -0.01217529  -0.54785502 ⋯ 0           \n",
              "22     -0.999712397 A      1.08719968  0.13800323  -0.49961437 ⋯ 0           \n",
              "23     -1.150881787 C     -0.25441910 -0.32683506  -0.33825774 ⋯ 0           \n",
              "24      0.553800673 A      0.81887592 -0.11229431  -0.03800133 ⋯ 0           \n",
              "25     -0.179660501 D     -1.59603787  0.20236545   0.33794300 ⋯ 0           \n",
              "26      0.283713854 A     -1.59603787  0.05218693   0.60742521 ⋯ 0           \n",
              "27     -0.008908228 A      1.08719968 -0.26247283  -0.32827692 ⋯ 0           \n",
              "28      0.314171964 C      1.08719968 -0.11229431  -0.02718877 ⋯ 0           \n",
              "29     -0.233550800 B     -1.32771412  0.12370051   0.39533273 ⋯ 0           \n",
              "30      0.476366068 C      0.81887592 -0.01217529   1.26782297 ⋯ 0           \n",
              "⋮      ⋮            ⋮     ⋮           ⋮            ⋮           ⋱ ⋮           \n",
              "886783 -1.0765491   C     -1.59603787 -0.491316295  1.06571132 ⋯ 0           \n",
              "886784  0.7785927   E     -0.79106661 -0.112294308 -0.24926207 ⋯ 0           \n",
              "886785 -0.5529312   C      0.01390466 -0.376894563  2.02886070 ⋯ 0           \n",
              "886786  0.2765384   B      1.08719968 -0.005023935 -0.38733012 ⋯ 0           \n",
              "886787 -0.2940559   A     -0.52274285  0.209516812 -0.49628743 ⋯ 0           \n",
              "886788 -0.8157678   C      0.28222841 -0.112294308 -0.36820021 ⋯ 0           \n",
              "886789 -0.4901464   E     -0.79106661 -0.262472831  1.46577596 ⋯ 0           \n",
              "886790  2.2098996   F     -0.79106661  0.145154588  0.56417498 ⋯ 0           \n",
              "886791 -0.8903622   C     -0.79106661 -0.162353816 -0.24260819 ⋯ 0           \n",
              "886792 -0.4380499   C     -1.32771412 -0.112294308 -0.17606937 ⋯ 0           \n",
              "886793 -1.0614508   C      1.08719968  0.059338289  0.23397609 ⋯ 0           \n",
              "886794 -0.3318763   C     -0.25441910 -0.105142950 -1.06852127 ⋯ 0           \n",
              "886795 -0.8101621   B     -1.59603787 -0.005023935 -0.21017052 ⋯ 0           \n",
              "886796  1.0659827   B      1.08719968  0.852752880 -0.17773284 ⋯ 0           \n",
              "886797 -1.0099523   A      1.08719968  0.066489648 -0.74248106 ⋯ 0           \n",
              "886798  0.3432473   C     -1.05939036  0.066489648 -0.76660138 ⋯ 0           \n",
              "886799  1.4718791   F     -0.25441910  0.710111889  1.36679947 ⋯ 0           \n",
              "886800 -0.4652567   B      1.08719968  0.495571142  0.07677814 ⋯ 0           \n",
              "886801  0.9883987   C     -1.05939036  0.138003230  0.51177566 ⋯ 0           \n",
              "886802 -0.1715134   C      1.08719968  0.424057559 -0.66346621 ⋯ 0           \n",
              "886803 -0.4114411   C      1.08719968  0.009278782 -0.26922372 ⋯ 0           \n",
              "886804 -0.5716545   A      1.08719968  0.023581498 -0.71919247 ⋯ 0           \n",
              "886805 -0.1231168   B     -1.59603787 -0.183807891  0.28138500 ⋯ 0           \n",
              "886806  0.5912473   C      0.01390466  0.281030395 -0.11036229 ⋯ 0           \n",
              "886807 -0.1884055   E      1.08719968 -0.212413324  2.33743447 ⋯ 0           \n",
              "886808 -0.6769312   C      1.08719968 -0.283926906  0.52425169 ⋯ 0           \n",
              "886809  0.2026168   D      1.08719968 -0.255321473  1.20377936 ⋯ 0           \n",
              "886810 -0.4652567   B      1.08719968  0.388300768  0.59245397 ⋯ 0           \n",
              "886811  0.2534426   B     -1.59603787 -0.076537517  0.19821148 ⋯ 0           \n",
              "886812 -1.5825648   A      1.08719968 -0.112294308 -0.91132331 ⋯ 0           \n",
              "       sub_grade_G5 hardship_flag_Y initial_list_status_w\n",
              "1      0            0               1                    \n",
              "2      0            0               1                    \n",
              "3      0            0               1                    \n",
              "4      0            0               1                    \n",
              "5      0            0               1                    \n",
              "6      0            0               0                    \n",
              "7      0            0               1                    \n",
              "8      0            0               1                    \n",
              "9      0            0               1                    \n",
              "10     0            0               1                    \n",
              "11     0            0               1                    \n",
              "12     0            0               1                    \n",
              "13     0            0               1                    \n",
              "14     0            0               1                    \n",
              "15     0            0               1                    \n",
              "16     0            0               1                    \n",
              "17     0            0               1                    \n",
              "18     0            0               1                    \n",
              "19     0            0               1                    \n",
              "20     0            0               1                    \n",
              "21     0            0               1                    \n",
              "22     0            0               1                    \n",
              "23     0            0               1                    \n",
              "24     0            0               1                    \n",
              "25     0            0               1                    \n",
              "26     0            0               1                    \n",
              "27     0            0               1                    \n",
              "28     0            0               1                    \n",
              "29     0            0               1                    \n",
              "30     0            0               1                    \n",
              "⋮      ⋮            ⋮               ⋮                    \n",
              "886783 0            0               1                    \n",
              "886784 0            0               1                    \n",
              "886785 0            0               1                    \n",
              "886786 0            0               1                    \n",
              "886787 0            0               1                    \n",
              "886788 0            0               1                    \n",
              "886789 0            0               1                    \n",
              "886790 0            0               1                    \n",
              "886791 0            0               1                    \n",
              "886792 0            0               1                    \n",
              "886793 0            0               1                    \n",
              "886794 0            0               1                    \n",
              "886795 0            0               1                    \n",
              "886796 0            0               1                    \n",
              "886797 0            0               1                    \n",
              "886798 0            0               1                    \n",
              "886799 0            0               1                    \n",
              "886800 0            0               1                    \n",
              "886801 0            0               1                    \n",
              "886802 0            0               1                    \n",
              "886803 0            0               1                    \n",
              "886804 0            0               1                    \n",
              "886805 0            0               1                    \n",
              "886806 0            0               1                    \n",
              "886807 0            0               1                    \n",
              "886808 0            0               1                    \n",
              "886809 0            0               1                    \n",
              "886810 0            0               1                    \n",
              "886811 0            0               1                    \n",
              "886812 0            0               1                    \n",
              "       application_type_Joint App home_ownership_MORTGAGE home_ownership_NONE\n",
              "1      0                          1                       0                  \n",
              "2      0                          1                       0                  \n",
              "3      0                          1                       0                  \n",
              "4      0                          1                       0                  \n",
              "5      0                          0                       0                  \n",
              "6      0                          1                       0                  \n",
              "7      0                          1                       0                  \n",
              "8      0                          0                       0                  \n",
              "9      0                          1                       0                  \n",
              "10     0                          1                       0                  \n",
              "11     0                          1                       0                  \n",
              "12     0                          0                       0                  \n",
              "13     0                          1                       0                  \n",
              "14     0                          1                       0                  \n",
              "15     0                          1                       0                  \n",
              "16     0                          1                       0                  \n",
              "17     0                          0                       0                  \n",
              "18     0                          1                       0                  \n",
              "19     0                          1                       0                  \n",
              "20     0                          0                       0                  \n",
              "21     0                          0                       0                  \n",
              "22     0                          1                       0                  \n",
              "23     0                          0                       0                  \n",
              "24     0                          0                       0                  \n",
              "25     0                          1                       0                  \n",
              "26     0                          1                       0                  \n",
              "27     0                          1                       0                  \n",
              "28     0                          1                       0                  \n",
              "29     0                          0                       0                  \n",
              "30     0                          1                       0                  \n",
              "⋮      ⋮                          ⋮                       ⋮                  \n",
              "886783 0                          0                       0                  \n",
              "886784 0                          0                       0                  \n",
              "886785 0                          0                       0                  \n",
              "886786 0                          1                       0                  \n",
              "886787 0                          1                       0                  \n",
              "886788 0                          1                       0                  \n",
              "886789 0                          0                       0                  \n",
              "886790 0                          0                       0                  \n",
              "886791 0                          1                       0                  \n",
              "886792 0                          0                       0                  \n",
              "886793 0                          1                       0                  \n",
              "886794 0                          0                       0                  \n",
              "886795 0                          0                       0                  \n",
              "886796 0                          1                       0                  \n",
              "886797 0                          1                       0                  \n",
              "886798 0                          0                       0                  \n",
              "886799 0                          1                       0                  \n",
              "886800 0                          1                       0                  \n",
              "886801 0                          1                       0                  \n",
              "886802 0                          1                       0                  \n",
              "886803 0                          1                       0                  \n",
              "886804 0                          0                       0                  \n",
              "886805 0                          0                       0                  \n",
              "886806 0                          1                       0                  \n",
              "886807 0                          1                       0                  \n",
              "886808 0                          0                       0                  \n",
              "886809 0                          0                       0                  \n",
              "886810 0                          1                       0                  \n",
              "886811 0                          1                       0                  \n",
              "886812 0                          1                       0                  \n",
              "       home_ownership_OWN home_ownership_RENT pymnt_plan_y\n",
              "1      0                  0                   0           \n",
              "2      0                  0                   0           \n",
              "3      0                  0                   0           \n",
              "4      0                  0                   0           \n",
              "5      0                  1                   0           \n",
              "6      0                  0                   0           \n",
              "7      0                  0                   0           \n",
              "8      0                  1                   0           \n",
              "9      0                  0                   0           \n",
              "10     0                  0                   0           \n",
              "11     0                  0                   0           \n",
              "12     0                  1                   0           \n",
              "13     0                  0                   0           \n",
              "14     0                  0                   0           \n",
              "15     0                  0                   0           \n",
              "16     0                  0                   0           \n",
              "17     0                  1                   0           \n",
              "18     0                  0                   0           \n",
              "19     0                  0                   0           \n",
              "20     1                  0                   0           \n",
              "21     0                  1                   0           \n",
              "22     0                  0                   0           \n",
              "23     0                  1                   0           \n",
              "24     1                  0                   0           \n",
              "25     0                  0                   0           \n",
              "26     0                  0                   0           \n",
              "27     0                  0                   0           \n",
              "28     0                  0                   0           \n",
              "29     0                  1                   0           \n",
              "30     0                  0                   0           \n",
              "⋮      ⋮                  ⋮                   ⋮           \n",
              "886783 0                  1                   0           \n",
              "886784 0                  1                   0           \n",
              "886785 1                  0                   0           \n",
              "886786 0                  0                   0           \n",
              "886787 0                  0                   0           \n",
              "886788 0                  0                   0           \n",
              "886789 0                  1                   0           \n",
              "886790 0                  1                   0           \n",
              "886791 0                  0                   0           \n",
              "886792 1                  0                   0           \n",
              "886793 0                  0                   0           \n",
              "886794 0                  1                   0           \n",
              "886795 0                  1                   0           \n",
              "886796 0                  0                   0           \n",
              "886797 0                  0                   0           \n",
              "886798 0                  1                   0           \n",
              "886799 0                  0                   0           \n",
              "886800 0                  0                   0           \n",
              "886801 0                  0                   0           \n",
              "886802 0                  0                   0           \n",
              "886803 0                  0                   0           \n",
              "886804 1                  0                   0           \n",
              "886805 0                  1                   0           \n",
              "886806 0                  0                   0           \n",
              "886807 0                  0                   0           \n",
              "886808 1                  0                   0           \n",
              "886809 0                  1                   0           \n",
              "886810 0                  0                   0           \n",
              "886811 0                  0                   0           \n",
              "886812 0                  0                   0           "
            ]
          },
          "metadata": {}
        }
      ]
    },
    {
      "cell_type": "code",
      "source": [
        "ind<-createDataPartition(new_data$grade, p = .80, list = FALSE)\n",
        "training<-new_data[ind,]\n",
        "testing<-new_data[-ind,]"
      ],
      "metadata": {
        "id": "tD3mxIMZ4kZz"
      },
      "execution_count": 34,
      "outputs": []
    },
    {
      "cell_type": "code",
      "source": [
        "head(training,5)"
      ],
      "metadata": {
        "colab": {
          "base_uri": "https://localhost:8080/",
          "height": 292
        },
        "id": "yZKOLvJH9Dfv",
        "outputId": "15d2aa83-4aa2-487b-a27a-98c378c32120"
      },
      "execution_count": 36,
      "outputs": [
        {
          "output_type": "display_data",
          "data": {
            "text/html": [
              "<table class=\"dataframe\">\n",
              "<caption>A data.frame: 5 × 112</caption>\n",
              "<thead>\n",
              "\t<tr><th></th><th scope=col>loan_amnt</th><th scope=col>funded_amnt</th><th scope=col>funded_amnt_inv</th><th scope=col>term</th><th scope=col>int_rate</th><th scope=col>installment</th><th scope=col>grade</th><th scope=col>emp_length</th><th scope=col>annual_inc</th><th scope=col>dti</th><th scope=col>⋯</th><th scope=col>sub_grade_G4</th><th scope=col>sub_grade_G5</th><th scope=col>hardship_flag_Y</th><th scope=col>initial_list_status_w</th><th scope=col>application_type_Joint App</th><th scope=col>home_ownership_MORTGAGE</th><th scope=col>home_ownership_NONE</th><th scope=col>home_ownership_OWN</th><th scope=col>home_ownership_RENT</th><th scope=col>pymnt_plan_y</th></tr>\n",
              "\t<tr><th></th><th scope=col>&lt;dbl&gt;</th><th scope=col>&lt;dbl&gt;</th><th scope=col>&lt;dbl&gt;</th><th scope=col>&lt;dbl&gt;</th><th scope=col>&lt;dbl&gt;</th><th scope=col>&lt;dbl&gt;</th><th scope=col>&lt;fct&gt;</th><th scope=col>&lt;dbl&gt;</th><th scope=col>&lt;dbl&gt;</th><th scope=col>&lt;dbl&gt;</th><th scope=col>⋯</th><th scope=col>&lt;int&gt;</th><th scope=col>&lt;int&gt;</th><th scope=col>&lt;int&gt;</th><th scope=col>&lt;int&gt;</th><th scope=col>&lt;int&gt;</th><th scope=col>&lt;int&gt;</th><th scope=col>&lt;int&gt;</th><th scope=col>&lt;int&gt;</th><th scope=col>&lt;int&gt;</th><th scope=col>&lt;int&gt;</th></tr>\n",
              "</thead>\n",
              "<tbody>\n",
              "\t<tr><th scope=row>1</th><td>-1.2875540</td><td>-1.2875515</td><td>-1.2872937</td><td>-0.6670735</td><td> 0.2694998</td><td>-1.2373230</td><td>C</td><td> 1.0871997</td><td>-0.1838079</td><td>-1.1126032</td><td>⋯</td><td>0</td><td>0</td><td>0</td><td>1</td><td>0</td><td>1</td><td>0</td><td>0</td><td>0</td><td>0</td></tr>\n",
              "\t<tr><th scope=row>2</th><td> 0.9895040</td><td> 0.9895059</td><td> 0.9903224</td><td>-0.6670735</td><td>-0.1428577</td><td> 1.3684336</td><td>C</td><td> 1.0871997</td><td>-0.1122943</td><td>-0.2683920</td><td>⋯</td><td>0</td><td>0</td><td>0</td><td>1</td><td>0</td><td>1</td><td>0</td><td>0</td><td>0</td><td>0</td></tr>\n",
              "\t<tr><th scope=row>4</th><td>-0.5537154</td><td>-0.5537131</td><td>-0.5532752</td><td> 1.4990834</td><td> 2.0137723</td><td>-0.6136605</td><td>F</td><td>-0.7910666</td><td> 0.1697052</td><td> 0.5059535</td><td>⋯</td><td>0</td><td>0</td><td>0</td><td>1</td><td>0</td><td>1</td><td>0</td><td>0</td><td>0</td><td>0</td></tr>\n",
              "\t<tr><th scope=row>5</th><td>-0.3864434</td><td>-0.3864411</td><td>-0.3859622</td><td>-0.6670735</td><td> 0.1561015</td><td>-0.1828745</td><td>C</td><td>-0.5227429</td><td>-0.3339864</td><td>-0.7557888</td><td>⋯</td><td>0</td><td>0</td><td>0</td><td>1</td><td>0</td><td>0</td><td>0</td><td>0</td><td>1</td><td>0</td></tr>\n",
              "\t<tr><th scope=row>6</th><td> 0.4822920</td><td> 0.4822941</td><td> 0.4829861</td><td>-0.6670735</td><td>-0.7242819</td><td> 0.6856488</td><td>B</td><td> 1.0871997</td><td> 0.7101119</td><td>-0.3840032</td><td>⋯</td><td>0</td><td>0</td><td>0</td><td>0</td><td>0</td><td>1</td><td>0</td><td>0</td><td>0</td><td>0</td></tr>\n",
              "</tbody>\n",
              "</table>\n"
            ],
            "text/markdown": "\nA data.frame: 5 × 112\n\n| <!--/--> | loan_amnt &lt;dbl&gt; | funded_amnt &lt;dbl&gt; | funded_amnt_inv &lt;dbl&gt; | term &lt;dbl&gt; | int_rate &lt;dbl&gt; | installment &lt;dbl&gt; | grade &lt;fct&gt; | emp_length &lt;dbl&gt; | annual_inc &lt;dbl&gt; | dti &lt;dbl&gt; | ⋯ ⋯ | sub_grade_G4 &lt;int&gt; | sub_grade_G5 &lt;int&gt; | hardship_flag_Y &lt;int&gt; | initial_list_status_w &lt;int&gt; | application_type_Joint App &lt;int&gt; | home_ownership_MORTGAGE &lt;int&gt; | home_ownership_NONE &lt;int&gt; | home_ownership_OWN &lt;int&gt; | home_ownership_RENT &lt;int&gt; | pymnt_plan_y &lt;int&gt; |\n|---|---|---|---|---|---|---|---|---|---|---|---|---|---|---|---|---|---|---|---|---|---|\n| 1 | -1.2875540 | -1.2875515 | -1.2872937 | -0.6670735 |  0.2694998 | -1.2373230 | C |  1.0871997 | -0.1838079 | -1.1126032 | ⋯ | 0 | 0 | 0 | 1 | 0 | 1 | 0 | 0 | 0 | 0 |\n| 2 |  0.9895040 |  0.9895059 |  0.9903224 | -0.6670735 | -0.1428577 |  1.3684336 | C |  1.0871997 | -0.1122943 | -0.2683920 | ⋯ | 0 | 0 | 0 | 1 | 0 | 1 | 0 | 0 | 0 | 0 |\n| 4 | -0.5537154 | -0.5537131 | -0.5532752 |  1.4990834 |  2.0137723 | -0.6136605 | F | -0.7910666 |  0.1697052 |  0.5059535 | ⋯ | 0 | 0 | 0 | 1 | 0 | 1 | 0 | 0 | 0 | 0 |\n| 5 | -0.3864434 | -0.3864411 | -0.3859622 | -0.6670735 |  0.1561015 | -0.1828745 | C | -0.5227429 | -0.3339864 | -0.7557888 | ⋯ | 0 | 0 | 0 | 1 | 0 | 0 | 0 | 0 | 1 | 0 |\n| 6 |  0.4822920 |  0.4822941 |  0.4829861 | -0.6670735 | -0.7242819 |  0.6856488 | B |  1.0871997 |  0.7101119 | -0.3840032 | ⋯ | 0 | 0 | 0 | 0 | 0 | 1 | 0 | 0 | 0 | 0 |\n\n",
            "text/latex": "A data.frame: 5 × 112\n\\begin{tabular}{r|lllllllllllllllllllll}\n  & loan\\_amnt & funded\\_amnt & funded\\_amnt\\_inv & term & int\\_rate & installment & grade & emp\\_length & annual\\_inc & dti & ⋯ & sub\\_grade\\_G4 & sub\\_grade\\_G5 & hardship\\_flag\\_Y & initial\\_list\\_status\\_w & application\\_type\\_Joint App & home\\_ownership\\_MORTGAGE & home\\_ownership\\_NONE & home\\_ownership\\_OWN & home\\_ownership\\_RENT & pymnt\\_plan\\_y\\\\\n  & <dbl> & <dbl> & <dbl> & <dbl> & <dbl> & <dbl> & <fct> & <dbl> & <dbl> & <dbl> & ⋯ & <int> & <int> & <int> & <int> & <int> & <int> & <int> & <int> & <int> & <int>\\\\\n\\hline\n\t1 & -1.2875540 & -1.2875515 & -1.2872937 & -0.6670735 &  0.2694998 & -1.2373230 & C &  1.0871997 & -0.1838079 & -1.1126032 & ⋯ & 0 & 0 & 0 & 1 & 0 & 1 & 0 & 0 & 0 & 0\\\\\n\t2 &  0.9895040 &  0.9895059 &  0.9903224 & -0.6670735 & -0.1428577 &  1.3684336 & C &  1.0871997 & -0.1122943 & -0.2683920 & ⋯ & 0 & 0 & 0 & 1 & 0 & 1 & 0 & 0 & 0 & 0\\\\\n\t4 & -0.5537154 & -0.5537131 & -0.5532752 &  1.4990834 &  2.0137723 & -0.6136605 & F & -0.7910666 &  0.1697052 &  0.5059535 & ⋯ & 0 & 0 & 0 & 1 & 0 & 1 & 0 & 0 & 0 & 0\\\\\n\t5 & -0.3864434 & -0.3864411 & -0.3859622 & -0.6670735 &  0.1561015 & -0.1828745 & C & -0.5227429 & -0.3339864 & -0.7557888 & ⋯ & 0 & 0 & 0 & 1 & 0 & 0 & 0 & 0 & 1 & 0\\\\\n\t6 &  0.4822920 &  0.4822941 &  0.4829861 & -0.6670735 & -0.7242819 &  0.6856488 & B &  1.0871997 &  0.7101119 & -0.3840032 & ⋯ & 0 & 0 & 0 & 0 & 0 & 1 & 0 & 0 & 0 & 0\\\\\n\\end{tabular}\n",
            "text/plain": [
              "  loan_amnt  funded_amnt funded_amnt_inv term       int_rate   installment\n",
              "1 -1.2875540 -1.2875515  -1.2872937      -0.6670735  0.2694998 -1.2373230 \n",
              "2  0.9895040  0.9895059   0.9903224      -0.6670735 -0.1428577  1.3684336 \n",
              "4 -0.5537154 -0.5537131  -0.5532752       1.4990834  2.0137723 -0.6136605 \n",
              "5 -0.3864434 -0.3864411  -0.3859622      -0.6670735  0.1561015 -0.1828745 \n",
              "6  0.4822920  0.4822941   0.4829861      -0.6670735 -0.7242819  0.6856488 \n",
              "  grade emp_length annual_inc dti        ⋯ sub_grade_G4 sub_grade_G5\n",
              "1 C      1.0871997 -0.1838079 -1.1126032 ⋯ 0            0           \n",
              "2 C      1.0871997 -0.1122943 -0.2683920 ⋯ 0            0           \n",
              "4 F     -0.7910666  0.1697052  0.5059535 ⋯ 0            0           \n",
              "5 C     -0.5227429 -0.3339864 -0.7557888 ⋯ 0            0           \n",
              "6 B      1.0871997  0.7101119 -0.3840032 ⋯ 0            0           \n",
              "  hardship_flag_Y initial_list_status_w application_type_Joint App\n",
              "1 0               1                     0                         \n",
              "2 0               1                     0                         \n",
              "4 0               1                     0                         \n",
              "5 0               1                     0                         \n",
              "6 0               0                     0                         \n",
              "  home_ownership_MORTGAGE home_ownership_NONE home_ownership_OWN\n",
              "1 1                       0                   0                 \n",
              "2 1                       0                   0                 \n",
              "4 1                       0                   0                 \n",
              "5 0                       0                   0                 \n",
              "6 1                       0                   0                 \n",
              "  home_ownership_RENT pymnt_plan_y\n",
              "1 0                   0           \n",
              "2 0                   0           \n",
              "4 0                   0           \n",
              "5 1                   0           \n",
              "6 0                   0           "
            ]
          },
          "metadata": {}
        }
      ]
    },
    {
      "cell_type": "code",
      "source": [
        "library(smotefamily)\n",
        "\n",
        "\n",
        "training$grade <- as.factor(training$grade)\n",
        "\n",
        "\n",
        "smote_output <- SMOTE(\n",
        "  X = training[, -which(names(training) == \"grade\")],\n",
        "  target = training$grade,\n",
        "  K = 5,\n",
        "  dup_size = 2\n",
        ")\n",
        "\n",
        "synth_data <- smote_output$syn_data\n",
        "colnames(synth_data)[ncol(synth_data)] <- \"grade\"\n",
        "\n",
        "balanced_data <- rbind(\n",
        "  training,\n",
        "  synth_data[, colnames(training)])\n",
        "\n",
        "table(balanced_data$grade)\n"
      ],
      "metadata": {
        "colab": {
          "base_uri": "https://localhost:8080/",
          "height": 69
        },
        "id": "QYnj-_Z35C1b",
        "outputId": "720559ea-8e2e-45a9-c1c2-e9e98eb92de9"
      },
      "execution_count": 37,
      "outputs": [
        {
          "output_type": "display_data",
          "data": {
            "text/plain": [
              "\n",
              "     A      B      C      D      E      F      G \n",
              "148209 203211 204909  94012  42464  12464  12552 "
            ]
          },
          "metadata": {}
        }
      ]
    },
    {
      "cell_type": "code",
      "source": [
        "dim(balanced_data)\n",
        "dim(data)\n",
        "dim(testing)"
      ],
      "metadata": {
        "colab": {
          "base_uri": "https://localhost:8080/",
          "height": 69
        },
        "id": "9lwO5-w22Cqx",
        "outputId": "cd5fabab-a198-4391-f56a-3232f48cf3bf"
      },
      "execution_count": 52,
      "outputs": [
        {
          "output_type": "display_data",
          "data": {
            "text/html": [
              "<style>\n",
              ".list-inline {list-style: none; margin:0; padding: 0}\n",
              ".list-inline>li {display: inline-block}\n",
              ".list-inline>li:not(:last-child)::after {content: \"\\00b7\"; padding: 0 .5ex}\n",
              "</style>\n",
              "<ol class=list-inline><li>717821</li><li>112</li></ol>\n"
            ],
            "text/markdown": "1. 717821\n2. 112\n\n\n",
            "text/latex": "\\begin{enumerate*}\n\\item 717821\n\\item 112\n\\end{enumerate*}\n",
            "text/plain": [
              "[1] 717821    112"
            ]
          },
          "metadata": {}
        },
        {
          "output_type": "display_data",
          "data": {
            "text/html": [
              "<style>\n",
              ".list-inline {list-style: none; margin:0; padding: 0}\n",
              ".list-inline>li {display: inline-block}\n",
              ".list-inline>li:not(:last-child)::after {content: \"\\00b7\"; padding: 0 .5ex}\n",
              "</style>\n",
              "<ol class=list-inline><li>886812</li><li>118</li></ol>\n"
            ],
            "text/markdown": "1. 886812\n2. 118\n\n\n",
            "text/latex": "\\begin{enumerate*}\n\\item 886812\n\\item 118\n\\end{enumerate*}\n",
            "text/plain": [
              "[1] 886812    118"
            ]
          },
          "metadata": {}
        },
        {
          "output_type": "display_data",
          "data": {
            "text/html": [
              "<style>\n",
              ".list-inline {list-style: none; margin:0; padding: 0}\n",
              ".list-inline>li {display: inline-block}\n",
              ".list-inline>li:not(:last-child)::after {content: \"\\00b7\"; padding: 0 .5ex}\n",
              "</style>\n",
              "<ol class=list-inline><li>177359</li><li>112</li></ol>\n"
            ],
            "text/markdown": "1. 177359\n2. 112\n\n\n",
            "text/latex": "\\begin{enumerate*}\n\\item 177359\n\\item 112\n\\end{enumerate*}\n",
            "text/plain": [
              "[1] 177359    112"
            ]
          },
          "metadata": {}
        }
      ]
    },
    {
      "cell_type": "code",
      "source": [
        "balanced_data$grade <- as.factor(balanced_data$grade)\n",
        "balanced_data$grade<-relevel(balanced_data$grade,ref = \"A\")\n",
        "train_control <- trainControl(method = \"cv\", number =3)\n",
        "model <- train(grade ~ ., data = balanced_data, method = \"multinom\", trControl = train_control)"
      ],
      "metadata": {
        "colab": {
          "base_uri": "https://localhost:8080/"
        },
        "id": "MkKh_CXe9gaA",
        "outputId": "a9b2809d-b1e5-4fb3-e9eb-8faa34030c04"
      },
      "execution_count": 38,
      "outputs": [
        {
          "output_type": "stream",
          "name": "stdout",
          "text": [
            "# weights:  791 (672 variable)\n",
            "initial  value 931209.464096 \n",
            "iter  10 value 392018.304684\n",
            "iter  20 value 194867.120915\n",
            "iter  30 value 135243.904561\n",
            "iter  40 value 123947.082114\n",
            "iter  50 value 114797.416138\n",
            "iter  60 value 104665.020630\n",
            "iter  70 value 93875.033387\n",
            "iter  80 value 87915.531150\n",
            "iter  90 value 84411.642382\n",
            "iter 100 value 80685.060557\n",
            "final  value 80685.060557 \n",
            "stopped after 100 iterations\n",
            "# weights:  791 (672 variable)\n",
            "initial  value 931209.464096 \n",
            "iter  10 value 392051.029785\n",
            "iter  20 value 194938.467965\n",
            "iter  30 value 135371.956381\n",
            "iter  40 value 124076.288060\n",
            "iter  50 value 114911.616453\n",
            "iter  60 value 105227.739795\n",
            "iter  70 value 94928.156766\n",
            "iter  80 value 88996.420553\n",
            "iter  90 value 85458.844167\n",
            "iter 100 value 81699.418639\n",
            "final  value 81699.418639 \n",
            "stopped after 100 iterations\n",
            "# weights:  791 (672 variable)\n",
            "initial  value 931209.464096 \n",
            "iter  10 value 392018.337411\n",
            "iter  20 value 194867.192273\n",
            "iter  30 value 135244.032639\n",
            "iter  40 value 123947.211197\n",
            "iter  50 value 114797.513861\n",
            "iter  60 value 104663.923059\n",
            "iter  70 value 93873.681351\n",
            "iter  80 value 87914.811253\n",
            "iter  90 value 84386.299422\n",
            "iter 100 value 80644.455447\n",
            "final  value 80644.455447 \n",
            "stopped after 100 iterations\n",
            "# weights:  791 (672 variable)\n",
            "initial  value 931207.518185 \n",
            "iter  10 value 383761.485485\n",
            "iter  20 value 192595.213540\n",
            "iter  30 value 126478.914883\n",
            "iter  40 value 111628.656351\n",
            "iter  50 value 101167.592203\n",
            "iter  60 value 92343.117221\n",
            "iter  70 value 84010.998708\n",
            "iter  80 value 79067.341072\n",
            "iter  90 value 75947.918406\n",
            "iter 100 value 73204.937775\n",
            "final  value 73204.937775 \n",
            "stopped after 100 iterations\n",
            "# weights:  791 (672 variable)\n",
            "initial  value 931207.518185 \n",
            "iter  10 value 383794.096988\n",
            "iter  20 value 192666.847092\n",
            "iter  30 value 126616.869826\n",
            "iter  40 value 111794.227827\n",
            "iter  50 value 101445.826765\n",
            "iter  60 value 92696.654204\n",
            "iter  70 value 84396.100054\n",
            "iter  80 value 79459.720734\n",
            "iter  90 value 76203.951960\n",
            "iter 100 value 73369.320711\n",
            "final  value 73369.320711 \n",
            "stopped after 100 iterations\n",
            "# weights:  791 (672 variable)\n",
            "initial  value 931207.518185 \n",
            "iter  10 value 383761.518099\n",
            "iter  20 value 192595.285183\n",
            "iter  30 value 126479.052884\n",
            "iter  40 value 111628.849196\n",
            "iter  50 value 101167.733900\n",
            "iter  60 value 92343.519714\n",
            "iter  70 value 84009.655935\n",
            "iter  80 value 79064.121390\n",
            "iter  90 value 75831.846914\n",
            "iter 100 value 73254.729806\n",
            "final  value 73254.729806 \n",
            "stopped after 100 iterations\n",
            "# weights:  791 (672 variable)\n",
            "initial  value 931213.355916 \n",
            "iter  10 value 242127.001764\n",
            "iter  20 value 75565.573671\n",
            "iter  30 value 62964.167083\n",
            "iter  40 value 59721.098949\n",
            "iter  50 value 57989.857619\n",
            "iter  60 value 56681.174648\n",
            "iter  70 value 55142.594697\n",
            "iter  80 value 53463.119271\n",
            "iter  90 value 51838.395035\n",
            "iter 100 value 48846.800752\n",
            "final  value 48846.800752 \n",
            "stopped after 100 iterations\n",
            "# weights:  791 (672 variable)\n",
            "initial  value 931213.355916 \n",
            "iter  10 value 242155.020223\n",
            "iter  20 value 75619.352046\n",
            "iter  30 value 63033.523796\n",
            "iter  40 value 59804.503874\n",
            "iter  50 value 58125.060899\n",
            "iter  60 value 56803.398479\n",
            "iter  70 value 55244.075712\n",
            "iter  80 value 53604.098004\n",
            "iter  90 value 51931.400603\n",
            "iter 100 value 48863.398101\n",
            "final  value 48863.398101 \n",
            "stopped after 100 iterations\n",
            "# weights:  791 (672 variable)\n",
            "initial  value 931213.355916 \n",
            "iter  10 value 242127.029783\n",
            "iter  20 value 75565.627450\n",
            "iter  30 value 62964.236435\n",
            "iter  40 value 59721.182409\n",
            "iter  50 value 57989.965163\n",
            "iter  60 value 56683.489219\n",
            "iter  70 value 55152.012350\n",
            "iter  80 value 53486.979563\n",
            "iter  90 value 51570.189716\n",
            "iter 100 value 49829.302482\n",
            "final  value 49829.302482 \n",
            "stopped after 100 iterations\n",
            "# weights:  791 (672 variable)\n",
            "initial  value 1396815.169092 \n",
            "iter  10 value 324471.946623\n",
            "iter  20 value 158132.483015\n",
            "iter  30 value 96390.714503\n",
            "iter  40 value 89844.282038\n",
            "iter  50 value 83629.254786\n",
            "iter  60 value 79544.465747\n",
            "iter  70 value 76240.554805\n",
            "iter  80 value 74331.318741\n",
            "iter  90 value 72935.210506\n",
            "iter 100 value 71402.708312\n",
            "final  value 71402.708312 \n",
            "stopped after 100 iterations\n"
          ]
        }
      ]
    },
    {
      "cell_type": "code",
      "source": [
        "train_pred <- predict(model,newdata=training)\n",
        "conf_matrix=confusionMatrix(train_pred,training$grade)\n",
        "conf_matrix"
      ],
      "metadata": {
        "colab": {
          "base_uri": "https://localhost:8080/",
          "height": 763
        },
        "id": "8uE_a90XZEMF",
        "outputId": "d71f4e56-25b0-4c98-9f02-68079ad8e86a"
      },
      "execution_count": 47,
      "outputs": [
        {
          "output_type": "display_data",
          "data": {
            "text/plain": [
              "Confusion Matrix and Statistics\n",
              "\n",
              "          Reference\n",
              "Prediction      A      B      C      D      E      F      G\n",
              "         A 148120      0      7    104    139     13      2\n",
              "         B      6 202355    151    208    465     61     65\n",
              "         C     19     43 204650      9      3      1      0\n",
              "         D     36    671     60  93632    227     41     11\n",
              "         E      5      5      6      3  41429     40      9\n",
              "         F      0      1      0      0      3  12283      1\n",
              "         G     23    136     35     56    198     25   4096\n",
              "\n",
              "Overall Statistics\n",
              "                                          \n",
              "               Accuracy : 0.9959          \n",
              "                 95% CI : (0.9958, 0.9961)\n",
              "    No Information Rate : 0.2888          \n",
              "    P-Value [Acc > NIR] : < 2.2e-16       \n",
              "                                          \n",
              "                  Kappa : 0.9947          \n",
              "                                          \n",
              " Mcnemar's Test P-Value : < 2.2e-16       \n",
              "\n",
              "Statistics by Class:\n",
              "\n",
              "                     Class: A Class: B Class: C Class: D Class: E Class: F\n",
              "Sensitivity            0.9994   0.9958   0.9987   0.9960  0.97563  0.98548\n",
              "Specificity            0.9995   0.9981   0.9999   0.9983  0.99990  0.99999\n",
              "Pos Pred Value         0.9982   0.9953   0.9996   0.9890  0.99836  0.99959\n",
              "Neg Pred Value         0.9998   0.9983   0.9995   0.9994  0.99845  0.99974\n",
              "Prevalence             0.2089   0.2864   0.2888   0.1325  0.05985  0.01757\n",
              "Detection Rate         0.2088   0.2852   0.2885   0.1320  0.05840  0.01731\n",
              "Detection Prevalence   0.2092   0.2866   0.2886   0.1335  0.05849  0.01732\n",
              "Balanced Accuracy      0.9995   0.9969   0.9993   0.9971  0.98776  0.99274\n",
              "                     Class: G\n",
              "Sensitivity          0.978967\n",
              "Specificity          0.999329\n",
              "Pos Pred Value       0.896476\n",
              "Neg Pred Value       0.999875\n",
              "Prevalence           0.005898\n",
              "Detection Rate       0.005773\n",
              "Detection Prevalence 0.006440\n",
              "Balanced Accuracy    0.989148"
            ]
          },
          "metadata": {}
        }
      ]
    },
    {
      "cell_type": "code",
      "source": [
        "testing$grade <- as.factor(testing$grade)\n",
        "testing$grade<-relevel(testing$grade,ref = \"A\")\n",
        "test_pred <- predict(model,newdata=testing)\n",
        "conf_matrix=confusionMatrix(test_pred,testing$grade)\n",
        "conf_matrix"
      ],
      "metadata": {
        "colab": {
          "base_uri": "https://localhost:8080/",
          "height": 763
        },
        "id": "5Dr7m84tYV2A",
        "outputId": "431c78e3-42a2-4eba-946e-9bcfdf1d7250"
      },
      "execution_count": 39,
      "outputs": [
        {
          "output_type": "display_data",
          "data": {
            "text/plain": [
              "Confusion Matrix and Statistics\n",
              "\n",
              "          Reference\n",
              "Prediction     A     B     C     D     E     F     G\n",
              "         A 37022     1     5    29    39     3     1\n",
              "         B     1 50580    31    54   129    18    19\n",
              "         C     8    13 51164     1     1     0     0\n",
              "         D     9   171    17 23405    36     9     3\n",
              "         E     1     0     2     0 10365    12     4\n",
              "         F     0     0     0     0     1  3065     0\n",
              "         G    11    37     8    13    45     8  1018\n",
              "\n",
              "Overall Statistics\n",
              "                                          \n",
              "               Accuracy : 0.9958          \n",
              "                 95% CI : (0.9955, 0.9961)\n",
              "    No Information Rate : 0.2888          \n",
              "    P-Value [Acc > NIR] : < 2.2e-16       \n",
              "                                          \n",
              "                  Kappa : 0.9946          \n",
              "                                          \n",
              " Mcnemar's Test P-Value : NA              \n",
              "\n",
              "Statistics by Class:\n",
              "\n",
              "                     Class: A Class: B Class: C Class: D Class: E Class: F\n",
              "Sensitivity            0.9992   0.9956   0.9988   0.9959  0.97636  0.98395\n",
              "Specificity            0.9994   0.9980   0.9998   0.9984  0.99989  0.99999\n",
              "Pos Pred Value         0.9979   0.9950   0.9996   0.9896  0.99817  0.99967\n",
              "Neg Pred Value         0.9998   0.9982   0.9995   0.9994  0.99850  0.99971\n",
              "Prevalence             0.2089   0.2864   0.2888   0.1325  0.05986  0.01756\n",
              "Detection Rate         0.2087   0.2852   0.2885   0.1320  0.05844  0.01728\n",
              "Detection Prevalence   0.2092   0.2866   0.2886   0.1333  0.05855  0.01729\n",
              "Balanced Accuracy      0.9993   0.9968   0.9993   0.9971  0.98812  0.99197\n",
              "                     Class: G\n",
              "Sensitivity          0.974163\n",
              "Specificity          0.999308\n",
              "Pos Pred Value       0.892982\n",
              "Neg Pred Value       0.999847\n",
              "Prevalence           0.005892\n",
              "Detection Rate       0.005740\n",
              "Detection Prevalence 0.006428\n",
              "Balanced Accuracy    0.986735"
            ]
          },
          "metadata": {}
        }
      ]
    },
    {
      "cell_type": "code",
      "source": [
        "library(ggplot2)\n",
        "f1_scores <- as.data.frame(conf_matrix$byClass)\n",
        "f1_scores$Grade <- rownames(f1_scores)\n",
        "\n",
        "ggplot(f1_scores, aes(x = Grade, y = F1)) +\n",
        "  geom_bar(stat = \"identity\", fill = \"steelblue\") +\n",
        "  labs(title = \"F1 Score by Loan Grade\", x = \"Grade\", y = \"F1 Score\") +\n",
        "  theme_minimal()\n"
      ],
      "metadata": {
        "colab": {
          "base_uri": "https://localhost:8080/",
          "height": 437
        },
        "id": "6MT2nSJNZFI-",
        "outputId": "db35e780-984d-4173-e66f-8e75148b1856"
      },
      "execution_count": 45,
      "outputs": [
        {
          "output_type": "display_data",
          "data": {
            "text/plain": [
              "plot without title"
            ],
            "image/png": "[encoded data removed]"
          },
          "metadata": {
            "image/png": {
              "width": 420,
              "height": 420
            }
          }
        }
      ]
    },
    {
      "cell_type": "code",
      "source": [
        "install.packages(\"pROC\")\n",
        "library(pROC)\n",
        "\n",
        "test_probs <- predict(model, newdata = testing, type = \"prob\")\n",
        "roc_curves <- list()\n",
        "auc_values <- c()\n",
        "\n",
        "for (class in levels(testing$grade)) {\n",
        "    binary_labels <- ifelse(testing$grade == class, 1, 0)\n",
        "    roc_curves[[class]] <- roc(binary_labels, test_probs[, class])\n",
        "    auc_values[class] <- auc(roc_curves[[class]])\n",
        "}\n",
        "print(auc_values)\n"
      ],
      "metadata": {
        "colab": {
          "base_uri": "https://localhost:8080/"
        },
        "id": "gkHr1GZ0boHn",
        "outputId": "be9af3a1-c221-4594-9778-5880b59319b8"
      },
      "execution_count": 48,
      "outputs": [
        {
          "output_type": "stream",
          "name": "stderr",
          "text": [
            "Installing package into ‘/usr/local/lib/R/site-library’\n",
            "(as ‘lib’ is unspecified)\n",
            "\n",
            "Type 'citation(\"pROC\")' for a citation.\n",
            "\n",
            "\n",
            "Attaching package: ‘pROC’\n",
            "\n",
            "\n",
            "The following objects are masked from ‘package:stats’:\n",
            "\n",
            "    cov, smooth, var\n",
            "\n",
            "\n",
            "Setting levels: control = 0, case = 1\n",
            "\n",
            "Setting direction: controls < cases\n",
            "\n",
            "Setting levels: control = 0, case = 1\n",
            "\n",
            "Setting direction: controls < cases\n",
            "\n",
            "Setting levels: control = 0, case = 1\n",
            "\n",
            "Setting direction: controls < cases\n",
            "\n",
            "Setting levels: control = 0, case = 1\n",
            "\n",
            "Setting direction: controls < cases\n",
            "\n",
            "Setting levels: control = 0, case = 1\n",
            "\n",
            "Setting direction: controls < cases\n",
            "\n",
            "Setting levels: control = 0, case = 1\n",
            "\n",
            "Setting direction: controls < cases\n",
            "\n",
            "Setting levels: control = 0, case = 1\n",
            "\n",
            "Setting direction: controls < cases\n",
            "\n"
          ]
        },
        {
          "output_type": "stream",
          "name": "stdout",
          "text": [
            "        A         B         C         D         E         F         G \n",
            "0.9999190 0.9998260 0.9999374 0.9998223 0.9981102 0.9998546 0.9977388 \n"
          ]
        }
      ]
    },
    {
      "cell_type": "code",
      "source": [
        "plot(roc_curves[[1]], col = 1, lwd = 2, main = \"Multiclass ROC Curve\")\n",
        "for (i in 2:length(roc_curves)) {\n",
        "    plot(roc_curves[[i]], col = i, add = TRUE, lwd = 2)\n",
        "}\n",
        "legend(\"bottomright\", legend = levels(testing$grade), col = 1:length(roc_curves), lwd = 2)\n"
      ],
      "metadata": {
        "colab": {
          "base_uri": "https://localhost:8080/",
          "height": 437
        },
        "id": "6c9sS7zybzYE",
        "outputId": "9f2adb49-cb3a-4d4d-dd94-3f6723c31ea6"
      },
      "execution_count": 54,
      "outputs": [
        {
          "output_type": "display_data",
          "data": {
            "text/plain": [
              "Plot with title “Multiclass ROC Curve”"
            ],
            "image/png": "[encoded data removed]"
          },
          "metadata": {
            "image/png": {
              "width": 420,
              "height": 420
            }
          }
        }
      ]
    },
    {
      "cell_type": "code",
      "source": [
        "install.packages(\"PRROC\")\n",
        "library(PRROC)\n"
      ],
      "metadata": {
        "colab": {
          "base_uri": "https://localhost:8080/"
        },
        "id": "XctsxBMK4BVI",
        "outputId": "3c9c5e54-9e33-452b-ac03-0f9b166e43c5"
      },
      "execution_count": 55,
      "outputs": [
        {
          "output_type": "stream",
          "name": "stderr",
          "text": [
            "Installing package into ‘/usr/local/lib/R/site-library’\n",
            "(as ‘lib’ is unspecified)\n",
            "\n"
          ]
        }
      ]
    },
    {
      "cell_type": "code",
      "source": [
        "training$grade<-relevel(training$grade,ref = \"A\")\n",
        "train_control <- trainControl(method = \"cv\", number =3)\n",
        "model <- train(grade ~ ., data = training, method = \"multinom\", trControl = train_control)"
      ],
      "metadata": {
        "colab": {
          "base_uri": "https://localhost:8080/"
        },
        "collapsed": true,
        "id": "xfQtFT1lcASU",
        "outputId": "80982af1-5b49-451b-8901-3037dc89c1c2"
      },
      "execution_count": 50,
      "outputs": [
        {
          "output_type": "stream",
          "name": "stdout",
          "text": [
            "# weights:  791 (672 variable)\n",
            "initial  value 920351.285464 \n",
            "iter  10 value 258471.536310\n",
            "iter  20 value 78808.841426\n",
            "iter  30 value 65071.555510\n",
            "iter  40 value 59385.891935\n",
            "iter  50 value 55003.683554\n",
            "iter  60 value 52404.658489\n",
            "iter  70 value 51261.704167\n",
            "iter  80 value 50274.052666\n",
            "iter  90 value 49152.637246\n",
            "iter 100 value 47295.864533\n",
            "final  value 47295.864533 \n",
            "stopped after 100 iterations\n",
            "# weights:  791 (672 variable)\n",
            "initial  value 920351.285464 \n",
            "iter  10 value 258498.083103\n",
            "iter  20 value 78865.302075\n",
            "iter  30 value 65142.384009\n",
            "iter  40 value 59472.506924\n",
            "iter  50 value 55118.212136\n",
            "iter  60 value 52552.563232\n",
            "iter  70 value 51421.672544\n",
            "iter  80 value 50439.881140\n",
            "iter  90 value 49258.724164\n",
            "iter 100 value 47881.923570\n",
            "final  value 47881.923570 \n",
            "stopped after 100 iterations\n",
            "# weights:  791 (672 variable)\n",
            "initial  value 920351.285464 \n",
            "iter  10 value 258471.562857\n",
            "iter  20 value 78808.897891\n",
            "iter  30 value 65071.626354\n",
            "iter  40 value 59385.978594\n",
            "iter  50 value 55003.798258\n",
            "iter  60 value 52404.807672\n",
            "iter  70 value 51261.865745\n",
            "iter  80 value 50274.220065\n",
            "iter  90 value 49152.756954\n",
            "iter 100 value 47299.285471\n",
            "final  value 47299.285471 \n",
            "stopped after 100 iterations\n",
            "# weights:  791 (672 variable)\n",
            "initial  value 920357.123194 \n",
            "iter  10 value 259986.880137\n",
            "iter  20 value 81853.699135\n",
            "iter  30 value 69003.851242\n",
            "iter  40 value 63042.365035\n",
            "iter  50 value 58373.324024\n",
            "iter  60 value 55359.642937\n",
            "iter  70 value 53242.347894\n",
            "iter  80 value 52178.236167\n",
            "iter  90 value 50864.382001\n",
            "iter 100 value 49597.094252\n",
            "final  value 49597.094252 \n",
            "stopped after 100 iterations\n",
            "# weights:  791 (672 variable)\n",
            "initial  value 920357.123194 \n",
            "iter  10 value 260014.010386\n",
            "iter  20 value 81916.541431\n",
            "iter  30 value 69061.198556\n",
            "iter  40 value 63115.958975\n",
            "iter  50 value 58607.081917\n",
            "iter  60 value 55511.967385\n",
            "iter  70 value 53460.059852\n",
            "iter  80 value 52530.706236\n",
            "iter  90 value 51450.819867\n",
            "iter 100 value 49683.814127\n",
            "final  value 49683.814127 \n",
            "stopped after 100 iterations\n",
            "# weights:  791 (672 variable)\n",
            "initial  value 920357.123194 \n",
            "iter  10 value 259986.907268\n",
            "iter  20 value 81853.762156\n",
            "iter  30 value 69004.125991\n",
            "iter  40 value 63067.145700\n",
            "iter  50 value 58443.431044\n",
            "iter  60 value 55449.286446\n",
            "iter  70 value 53339.283600\n",
            "iter  80 value 52264.013400\n",
            "iter  90 value 51121.702558\n",
            "iter 100 value 49841.166854\n",
            "final  value 49841.166854 \n",
            "stopped after 100 iterations\n",
            "# weights:  791 (672 variable)\n",
            "initial  value 920355.177284 \n",
            "iter  10 value 300476.309545\n",
            "iter  20 value 77384.850179\n",
            "iter  30 value 51520.504708\n",
            "iter  40 value 43612.849412\n",
            "iter  50 value 39757.192271\n",
            "iter  60 value 37389.464654\n",
            "iter  70 value 36501.547077\n",
            "iter  80 value 35955.384015\n",
            "iter  90 value 34995.097663\n",
            "iter 100 value 32703.894514\n",
            "final  value 32703.894514 \n",
            "stopped after 100 iterations\n",
            "# weights:  791 (672 variable)\n",
            "initial  value 920355.177284 \n",
            "iter  10 value 300507.160533\n",
            "iter  20 value 77466.095050\n",
            "iter  30 value 51631.331765\n",
            "iter  40 value 43752.145640\n",
            "iter  50 value 39932.694835\n",
            "iter  60 value 37537.954766\n",
            "iter  70 value 36540.423701\n",
            "iter  80 value 35919.987342\n",
            "iter  90 value 35111.301263\n",
            "iter 100 value 33296.979193\n",
            "final  value 33296.979193 \n",
            "stopped after 100 iterations\n",
            "# weights:  791 (672 variable)\n",
            "initial  value 920355.177284 \n",
            "iter  10 value 300476.340398\n",
            "iter  20 value 77384.931434\n",
            "iter  30 value 51520.615573\n",
            "iter  40 value 43612.988831\n",
            "iter  50 value 39757.350203\n",
            "iter  60 value 37399.265387\n",
            "iter  70 value 36410.309518\n",
            "iter  80 value 36003.417887\n",
            "iter  90 value 35119.073798\n",
            "iter 100 value 32657.631904\n",
            "final  value 32657.631904 \n",
            "stopped after 100 iterations\n",
            "# weights:  791 (672 variable)\n",
            "initial  value 1380531.792965 \n",
            "iter  10 value 289642.668529\n",
            "iter  20 value 131066.153345\n",
            "iter  30 value 99732.796190\n",
            "iter  40 value 92137.232315\n",
            "iter  50 value 87888.463410\n",
            "iter  60 value 85558.421078\n",
            "iter  70 value 83291.706901\n",
            "iter  80 value 81550.017699\n",
            "iter  90 value 80253.530983\n",
            "iter 100 value 78974.263244\n",
            "final  value 78974.263244 \n",
            "stopped after 100 iterations\n"
          ]
        }
      ]
    },
    {
      "cell_type": "code",
      "source": [
        "testing$grade <- as.factor(testing$grade)\n",
        "testing$grade<-relevel(testing$grade,ref = \"A\")\n",
        "test_pred <- predict(model,newdata=testing)\n",
        "conf_matrix=confusionMatrix(test_pred,testing$grade)\n",
        "conf_matrix"
      ],
      "metadata": {
        "colab": {
          "base_uri": "https://localhost:8080/",
          "height": 763
        },
        "collapsed": true,
        "id": "mNE3EaGK2-Bv",
        "outputId": "fa43967e-db88-4778-b0f2-bc378b89095f"
      },
      "execution_count": 53,
      "outputs": [
        {
          "output_type": "display_data",
          "data": {
            "text/plain": [
              "Confusion Matrix and Statistics\n",
              "\n",
              "          Reference\n",
              "Prediction     A     B     C     D     E     F     G\n",
              "         A 37004     0     7     9     7     2     0\n",
              "         B     0 50757     0     5     3     4     0\n",
              "         C    23    27 51121    25    10     0     3\n",
              "         D     3     1     5 23408     0     0     0\n",
              "         E     0     0     0     2 10370    17    50\n",
              "         F    21    17    94    53   222  3090   111\n",
              "         G     1     0     0     0     4     2   881\n",
              "\n",
              "Overall Statistics\n",
              "                                          \n",
              "               Accuracy : 0.9959          \n",
              "                 95% CI : (0.9956, 0.9962)\n",
              "    No Information Rate : 0.2888          \n",
              "    P-Value [Acc > NIR] : < 2.2e-16       \n",
              "                                          \n",
              "                  Kappa : 0.9947          \n",
              "                                          \n",
              " Mcnemar's Test P-Value : NA              \n",
              "\n",
              "Statistics by Class:\n",
              "\n",
              "                     Class: A Class: B Class: C Class: D Class: E Class: F\n",
              "Sensitivity            0.9987   0.9991   0.9979   0.9960  0.97683  0.99197\n",
              "Specificity            0.9998   0.9999   0.9993   0.9999  0.99959  0.99703\n",
              "Pos Pred Value         0.9993   0.9998   0.9983   0.9996  0.99339  0.85643\n",
              "Neg Pred Value         0.9997   0.9996   0.9992   0.9994  0.99853  0.99986\n",
              "Prevalence             0.2089   0.2864   0.2888   0.1325  0.05986  0.01756\n",
              "Detection Rate         0.2086   0.2862   0.2882   0.1320  0.05847  0.01742\n",
              "Detection Prevalence   0.2088   0.2862   0.2887   0.1320  0.05886  0.02034\n",
              "Balanced Accuracy      0.9993   0.9995   0.9986   0.9980  0.98821  0.99450\n",
              "                     Class: G\n",
              "Sensitivity          0.843062\n",
              "Specificity          0.999960\n",
              "Pos Pred Value       0.992117\n",
              "Neg Pred Value       0.999071\n",
              "Prevalence           0.005892\n",
              "Detection Rate       0.004967\n",
              "Detection Prevalence 0.005007\n",
              "Balanced Accuracy    0.921511"
            ]
          },
          "metadata": {}
        }
      ]
    }
  ]
}